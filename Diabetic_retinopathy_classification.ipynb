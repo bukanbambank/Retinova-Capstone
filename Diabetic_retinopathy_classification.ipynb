{
  "nbformat": 4,
  "nbformat_minor": 0,
  "metadata": {
    "colab": {
      "provenance": [],
      "gpuType": "T4"
    },
    "kernelspec": {
      "name": "python3",
      "display_name": "Python 3"
    },
    "language_info": {
      "name": "python"
    },
    "accelerator": "GPU",
    "widgets": {
      "application/vnd.jupyter.widget-state+json": {
        "55be2510c6fc4541a73797917f2b24f3": {
          "model_module": "@jupyter-widgets/controls",
          "model_name": "FileUploadModel",
          "model_module_version": "1.5.0",
          "state": {
            "_counter": 3,
            "_dom_classes": [],
            "_model_module": "@jupyter-widgets/controls",
            "_model_module_version": "1.5.0",
            "_model_name": "FileUploadModel",
            "_view_count": null,
            "_view_module": "@jupyter-widgets/controls",
            "_view_module_version": "1.5.0",
            "_view_name": "FileUploadView",
            "accept": "image/*",
            "button_style": "",
            "data": [
              null
            ],
            "description": "Upload",
            "description_tooltip": null,
            "disabled": false,
            "error": "",
            "icon": "upload",
            "layout": "IPY_MODEL_7dc39d524431464c985760901ec4eb9a",
            "metadata": [
              {
                "name": "lvl1-2.jpeg",
                "type": "image/jpeg",
                "size": 112829,
                "lastModified": 1732357207803
              }
            ],
            "multiple": true,
            "style": "IPY_MODEL_e3ec369ade8d43c7a19df6e541750a2e"
          }
        },
        "7dc39d524431464c985760901ec4eb9a": {
          "model_module": "@jupyter-widgets/base",
          "model_name": "LayoutModel",
          "model_module_version": "1.2.0",
          "state": {
            "_model_module": "@jupyter-widgets/base",
            "_model_module_version": "1.2.0",
            "_model_name": "LayoutModel",
            "_view_count": null,
            "_view_module": "@jupyter-widgets/base",
            "_view_module_version": "1.2.0",
            "_view_name": "LayoutView",
            "align_content": null,
            "align_items": null,
            "align_self": null,
            "border": null,
            "bottom": null,
            "display": null,
            "flex": null,
            "flex_flow": null,
            "grid_area": null,
            "grid_auto_columns": null,
            "grid_auto_flow": null,
            "grid_auto_rows": null,
            "grid_column": null,
            "grid_gap": null,
            "grid_row": null,
            "grid_template_areas": null,
            "grid_template_columns": null,
            "grid_template_rows": null,
            "height": null,
            "justify_content": null,
            "justify_items": null,
            "left": null,
            "margin": null,
            "max_height": null,
            "max_width": null,
            "min_height": null,
            "min_width": null,
            "object_fit": null,
            "object_position": null,
            "order": null,
            "overflow": null,
            "overflow_x": null,
            "overflow_y": null,
            "padding": null,
            "right": null,
            "top": null,
            "visibility": null,
            "width": null
          }
        },
        "e3ec369ade8d43c7a19df6e541750a2e": {
          "model_module": "@jupyter-widgets/controls",
          "model_name": "ButtonStyleModel",
          "model_module_version": "1.5.0",
          "state": {
            "_model_module": "@jupyter-widgets/controls",
            "_model_module_version": "1.5.0",
            "_model_name": "ButtonStyleModel",
            "_view_count": null,
            "_view_module": "@jupyter-widgets/base",
            "_view_module_version": "1.2.0",
            "_view_name": "StyleView",
            "button_color": null,
            "font_weight": ""
          }
        },
        "73da5fe0d07748ceb8b7051d948818b2": {
          "model_module": "@jupyter-widgets/output",
          "model_name": "OutputModel",
          "model_module_version": "1.0.0",
          "state": {
            "_dom_classes": [],
            "_model_module": "@jupyter-widgets/output",
            "_model_module_version": "1.0.0",
            "_model_name": "OutputModel",
            "_view_count": null,
            "_view_module": "@jupyter-widgets/output",
            "_view_module_version": "1.0.0",
            "_view_name": "OutputView",
            "layout": "IPY_MODEL_c88d44fd2eb74795bff69fb47a16c9d8",
            "msg_id": "",
            "outputs": [
              {
                "output_type": "stream",
                "name": "stdout",
                "text": [
                  "0.png diprediksi dengan tingkat keparahan 0 dengan probabilitas 0.51\n",
                  "Tidak ada retinopati yang terdeteksi.\n"
                ]
              },
              {
                "output_type": "stream",
                "name": "stdout",
                "text": [
                  "10003_right.jpeg diprediksi dengan tingkat keparahan 0 dengan probabilitas 0.50\n",
                  "Tidak ada retinopati yang terdeteksi.\n"
                ]
              },
              {
                "output_type": "stream",
                "name": "stdout",
                "text": [
                  "lvl1-2.jpeg diprediksi dengan tingkat keparahan 0 dengan probabilitas 0.51\n",
                  "Tidak ada retinopati yang terdeteksi.\n"
                ]
              }
            ]
          }
        },
        "c88d44fd2eb74795bff69fb47a16c9d8": {
          "model_module": "@jupyter-widgets/base",
          "model_name": "LayoutModel",
          "model_module_version": "1.2.0",
          "state": {
            "_model_module": "@jupyter-widgets/base",
            "_model_module_version": "1.2.0",
            "_model_name": "LayoutModel",
            "_view_count": null,
            "_view_module": "@jupyter-widgets/base",
            "_view_module_version": "1.2.0",
            "_view_name": "LayoutView",
            "align_content": null,
            "align_items": null,
            "align_self": null,
            "border": null,
            "bottom": null,
            "display": null,
            "flex": null,
            "flex_flow": null,
            "grid_area": null,
            "grid_auto_columns": null,
            "grid_auto_flow": null,
            "grid_auto_rows": null,
            "grid_column": null,
            "grid_gap": null,
            "grid_row": null,
            "grid_template_areas": null,
            "grid_template_columns": null,
            "grid_template_rows": null,
            "height": null,
            "justify_content": null,
            "justify_items": null,
            "left": null,
            "margin": null,
            "max_height": null,
            "max_width": null,
            "min_height": null,
            "min_width": null,
            "object_fit": null,
            "object_position": null,
            "order": null,
            "overflow": null,
            "overflow_x": null,
            "overflow_y": null,
            "padding": null,
            "right": null,
            "top": null,
            "visibility": null,
            "width": null
          }
        }
      }
    }
  },
  "cells": [
    {
      "cell_type": "code",
      "execution_count": 1,
      "metadata": {
        "colab": {
          "base_uri": "https://localhost:8080/"
        },
        "id": "0_wtizIJTsy5",
        "outputId": "9095420d-2a48-4590-948a-dd27ac339560"
      },
      "outputs": [
        {
          "output_type": "stream",
          "name": "stdout",
          "text": [
            "Downloading from https://www.kaggle.com/api/v1/datasets/download/aitude/aptos-augmented-images?dataset_version_number=1...\n"
          ]
        },
        {
          "output_type": "stream",
          "name": "stderr",
          "text": [
            "100%|██████████| 2.77G/2.77G [02:23<00:00, 20.7MB/s]"
          ]
        },
        {
          "output_type": "stream",
          "name": "stdout",
          "text": [
            "Extracting files...\n"
          ]
        },
        {
          "output_type": "stream",
          "name": "stderr",
          "text": [
            "\n"
          ]
        },
        {
          "output_type": "stream",
          "name": "stdout",
          "text": [
            "Data source import complete.\n"
          ]
        }
      ],
      "source": [
        "# IMPORTANT: RUN THIS CELL IN ORDER TO IMPORT YOUR KAGGLE DATA SOURCES,\n",
        "# THEN FEEL FREE TO DELETE THIS CELL.\n",
        "# NOTE: THIS NOTEBOOK ENVIRONMENT DIFFERS FROM KAGGLE'S PYTHON\n",
        "# ENVIRONMENT SO THERE MAY BE MISSING LIBRARIES USED BY YOUR\n",
        "# NOTEBOOK.\n",
        "import kagglehub\n",
        "aitude_aptos_augmented_images_path = kagglehub.dataset_download('aitude/aptos-augmented-images')\n",
        "\n",
        "print('Data source import complete.')\n"
      ]
    },
    {
      "cell_type": "code",
      "source": [
        "import os\n",
        "import random\n",
        "import shutil\n",
        "import hashlib\n",
        "import pandas as pd\n",
        "import matplotlib.pyplot as plt\n",
        "import tensorflow as tf"
      ],
      "metadata": {
        "id": "sR84oXTsUBzE"
      },
      "execution_count": 2,
      "outputs": []
    },
    {
      "cell_type": "code",
      "source": [
        "source_path = \"/root/.cache/kagglehub/datasets/aitude/aptos-augmented-images/versions/1/aptos-augmented-images\"\n",
        "destination_path = \"/content/\"\n",
        "\n",
        "# Membuat folder tujuan jika belum ada\n",
        "os.makedirs(destination_path, exist_ok=True)\n",
        "\n",
        "# Menyalin dataset ke folder tujuan\n",
        "shutil.copytree(source_path, destination_path, dirs_exist_ok=True)\n",
        "\n",
        "print(\"Dataset berhasil disalin ke folder!\")"
      ],
      "metadata": {
        "colab": {
          "base_uri": "https://localhost:8080/"
        },
        "id": "V-TUqSo_UCSD",
        "outputId": "80aa0d73-0be4-439b-dbdd-d847b3b4e724"
      },
      "execution_count": 3,
      "outputs": [
        {
          "output_type": "stream",
          "name": "stdout",
          "text": [
            "Dataset berhasil disalin ke folder!\n"
          ]
        }
      ]
    },
    {
      "cell_type": "code",
      "source": [
        "path = '/content/aptos-augmented-images'\n",
        "for i in range(5):  # Asumsikan ada 5 tingkatan (0-4)\n",
        "    folder = os.path.join(path, f\"{i}\")\n",
        "    file_count = len(os.listdir(folder))\n",
        "    print(f\"Level {i}: {file_count} files\")"
      ],
      "metadata": {
        "colab": {
          "base_uri": "https://localhost:8080/"
        },
        "id": "rrMElJXzUDu9",
        "outputId": "edfe6650-ad8d-468d-fced-78f544486d22"
      },
      "execution_count": 4,
      "outputs": [
        {
          "output_type": "stream",
          "name": "stdout",
          "text": [
            "Level 0: 2000 files\n",
            "Level 1: 2000 files\n",
            "Level 2: 2000 files\n",
            "Level 3: 2000 files\n",
            "Level 4: 2000 files\n"
          ]
        }
      ]
    },
    {
      "cell_type": "code",
      "source": [
        "# Path ke dataset utama\n",
        "dataset_path = \"/content/aptos-augmented-images\"\n",
        "\n",
        "# Path folder output untuk train dan validation\n",
        "train_path = \"/content/dataset/train\"\n",
        "val_path = \"/content/dataset/val\"\n",
        "\n",
        "# Buat folder train dan val jika belum ada\n",
        "os.makedirs(train_path, exist_ok=True)\n",
        "os.makedirs(val_path, exist_ok=True)\n"
      ],
      "metadata": {
        "id": "6kROEe4FUGAw"
      },
      "execution_count": 5,
      "outputs": []
    },
    {
      "cell_type": "code",
      "source": [
        "from sklearn.model_selection import train_test_split\n",
        "# Subfolder yang akan diproses\n",
        "subfolders = ['0', '1', '2', '3', '4']\n",
        "\n",
        "for subfolder in subfolders:\n",
        "    # Path ke subfolder asal\n",
        "    source_path = os.path.join(dataset_path, subfolder)\n",
        "\n",
        "    # Path ke subfolder train dan validation\n",
        "    subfolder_train = os.path.join(train_path, subfolder)\n",
        "    subfolder_val = os.path.join(val_path, subfolder)\n",
        "\n",
        "    # Buat subfolder train dan val\n",
        "    os.makedirs(subfolder_train, exist_ok=True)\n",
        "    os.makedirs(subfolder_val, exist_ok=True)\n",
        "\n",
        "    # List semua file dalam subfolder\n",
        "    files = [f for f in os.listdir(source_path) if os.path.isfile(os.path.join(source_path, f))]\n",
        "\n",
        "    # Bagi data menjadi train dan validation\n",
        "    train_files, val_files = train_test_split(files, test_size=0.3, random_state=42)\n",
        "\n",
        "    # Pindahkan file ke folder train\n",
        "    for file in train_files:\n",
        "        shutil.copy(os.path.join(source_path, file), os.path.join(subfolder_train, file))\n",
        "\n",
        "    # Pindahkan file ke folder validation\n",
        "    for file in val_files:\n",
        "        shutil.copy(os.path.join(source_path, file), os.path.join(subfolder_val, file))\n",
        "\n",
        "    print(f\"Subfolder '{subfolder}': {len(train_files)} train files, {len(val_files)} validation files.\")\n"
      ],
      "metadata": {
        "colab": {
          "base_uri": "https://localhost:8080/"
        },
        "id": "NxZVFGLOUHRs",
        "outputId": "bfa28859-40c5-47cc-dc7e-2d1422018f47"
      },
      "execution_count": 6,
      "outputs": [
        {
          "output_type": "stream",
          "name": "stdout",
          "text": [
            "Subfolder '0': 1400 train files, 600 validation files.\n",
            "Subfolder '1': 1400 train files, 600 validation files.\n",
            "Subfolder '2': 1400 train files, 600 validation files.\n",
            "Subfolder '3': 1400 train files, 600 validation files.\n",
            "Subfolder '4': 1400 train files, 600 validation files.\n"
          ]
        }
      ]
    },
    {
      "cell_type": "code",
      "source": [
        "train_set_path = '/content/dataset/train'\n",
        "validation_set_path = '/content/dataset/val'\n",
        "\n",
        "# Membaca gambar dari direktori train set\n",
        "train_dataset = tf.keras.preprocessing.image_dataset_from_directory(\n",
        "    train_set_path,\n",
        "    image_size=(512, 512),\n",
        "    batch_size=32,\n",
        "    label_mode='categorical',\n",
        "    color_mode = 'rgb',\n",
        "    shuffle=True,\n",
        "    seed=42,\n",
        ")\n",
        "\n",
        "# Membaca gambar dari direktori validation set\n",
        "validation_dataset = tf.keras.preprocessing.image_dataset_from_directory(\n",
        "    validation_set_path,\n",
        "    image_size=(512, 512),\n",
        "    batch_size=32,\n",
        "    label_mode='categorical',\n",
        "    color_mode = 'rgb',\n",
        "    shuffle=False,\n",
        "    seed=42,\n",
        ")"
      ],
      "metadata": {
        "colab": {
          "base_uri": "https://localhost:8080/"
        },
        "id": "wuIlKHVFUIl4",
        "outputId": "763975c9-c330-4705-a0cc-f59deb347db7"
      },
      "execution_count": 7,
      "outputs": [
        {
          "output_type": "stream",
          "name": "stdout",
          "text": [
            "Found 7000 files belonging to 5 classes.\n",
            "Found 3000 files belonging to 5 classes.\n"
          ]
        }
      ]
    },
    {
      "cell_type": "code",
      "source": [
        "print(f\"Images of train dataset have shape: {train_dataset.element_spec[0].shape}\")\n",
        "print(f\"Labels of train dataset have shape: {train_dataset.element_spec[1].shape}\")\n",
        "print(f\"Images of validation dataset have shape: {validation_dataset.element_spec[0].shape}\")\n",
        "print(f\"Labels of validation dataset have shape: {validation_dataset.element_spec[1].shape}\")"
      ],
      "metadata": {
        "colab": {
          "base_uri": "https://localhost:8080/"
        },
        "id": "tmLjtc2gWOQi",
        "outputId": "44c11bd6-cb08-4932-a431-10cf2636a2a3"
      },
      "execution_count": 8,
      "outputs": [
        {
          "output_type": "stream",
          "name": "stdout",
          "text": [
            "Images of train dataset have shape: (None, 512, 512, 3)\n",
            "Labels of train dataset have shape: (None, 5)\n",
            "Images of validation dataset have shape: (None, 512, 512, 3)\n",
            "Labels of validation dataset have shape: (None, 5)\n"
          ]
        }
      ]
    },
    {
      "cell_type": "code",
      "source": [
        "from tensorflow.keras import layers, models, regularizers\n",
        "from tensorflow.keras.optimizers import Adamax\n",
        "from tensorflow.keras.mixed_precision import set_global_policy\n",
        "\n",
        "# Mixed Precision Training\n",
        "set_global_policy('mixed_float16')\n",
        "\n",
        "def create_model():\n",
        "    base_model = tf.keras.applications.MobileNetV2(\n",
        "        input_shape=(512, 512, 3),\n",
        "        include_top=False,\n",
        "        weights='imagenet'\n",
        "    )\n",
        "\n",
        "    # Fine-tune lapisan terakhir saja\n",
        "    base_model.trainable = True\n",
        "    for layer in base_model.layers[:-20]:\n",
        "        layer.trainable = False\n",
        "\n",
        "    # Model Sequential\n",
        "    model = models.Sequential([\n",
        "        layers.Input(shape=(512, 512, 3)),\n",
        "        layers.Rescaling(1./255),\n",
        "        layers.RandomFlip(\"horizontal\"),\n",
        "        layers.RandomRotation(0.2),\n",
        "        layers.RandomZoom(0.2),\n",
        "        # layers.RandomBrightness(factor=0.2),\n",
        "        layers.RandomContrast(factor=0.2),\n",
        "        # layers.RandomTranslation(height_factor=0.1, width_factor=0.1),\n",
        "\n",
        "\n",
        "        base_model,\n",
        "\n",
        "        layers.GlobalAveragePooling2D(),\n",
        "        layers.Dense(128, activation='relu', kernel_regularizer=regularizers.l2(0.05)),\n",
        "        # layers.Dense(256, activation='relu'),\n",
        "        layers.BatchNormalization(),\n",
        "        layers.Dropout(0.2),\n",
        "        layers.Dense(5, activation='softmax')\n",
        "    ])\n",
        "\n",
        "    # Optimizer dengan Learning Rate Schedule\n",
        "    lr_schedule = tf.keras.optimizers.schedules.ExponentialDecay(\n",
        "        initial_learning_rate=1e-3,\n",
        "        decay_steps=1000,\n",
        "        decay_rate=0.9\n",
        "    )\n",
        "\n",
        "    model.compile(\n",
        "        optimizer=Adamax(learning_rate=lr_schedule),\n",
        "        loss='categorical_crossentropy',\n",
        "        metrics=['accuracy']\n",
        "    )\n",
        "\n",
        "    return model"
      ],
      "metadata": {
        "id": "g5ioj476WPpo"
      },
      "execution_count": 9,
      "outputs": []
    },
    {
      "cell_type": "code",
      "source": [
        "model = create_model()"
      ],
      "metadata": {
        "colab": {
          "base_uri": "https://localhost:8080/"
        },
        "id": "1V7Ci1GEWWG1",
        "outputId": "ef768279-e7e9-4147-993f-2e4c55e00217"
      },
      "execution_count": 10,
      "outputs": [
        {
          "output_type": "stream",
          "name": "stderr",
          "text": [
            "<ipython-input-9-d14276b7672a>:9: UserWarning: `input_shape` is undefined or non-square, or `rows` is not in [96, 128, 160, 192, 224]. Weights for input shape (224, 224) will be loaded as the default.\n",
            "  base_model = tf.keras.applications.MobileNetV2(\n"
          ]
        },
        {
          "output_type": "stream",
          "name": "stdout",
          "text": [
            "Downloading data from https://storage.googleapis.com/tensorflow/keras-applications/mobilenet_v2/mobilenet_v2_weights_tf_dim_ordering_tf_kernels_1.0_224_no_top.h5\n",
            "\u001b[1m9406464/9406464\u001b[0m \u001b[32m━━━━━━━━━━━━━━━━━━━━\u001b[0m\u001b[37m\u001b[0m \u001b[1m2s\u001b[0m 0us/step\n"
          ]
        }
      ]
    },
    {
      "cell_type": "code",
      "source": [
        "model.summary()"
      ],
      "metadata": {
        "colab": {
          "base_uri": "https://localhost:8080/",
          "height": 513
        },
        "id": "l8V87NcSWYMu",
        "outputId": "c2704ffb-d653-44eb-c0ce-8684de97f39a"
      },
      "execution_count": 11,
      "outputs": [
        {
          "output_type": "display_data",
          "data": {
            "text/plain": [
              "\u001b[1mModel: \"sequential\"\u001b[0m\n"
            ],
            "text/html": [
              "<pre style=\"white-space:pre;overflow-x:auto;line-height:normal;font-family:Menlo,'DejaVu Sans Mono',consolas,'Courier New',monospace\"><span style=\"font-weight: bold\">Model: \"sequential\"</span>\n",
              "</pre>\n"
            ]
          },
          "metadata": {}
        },
        {
          "output_type": "display_data",
          "data": {
            "text/plain": [
              "┏━━━━━━━━━━━━━━━━━━━━━━━━━━━━━━━━━━━━━━┳━━━━━━━━━━━━━━━━━━━━━━━━━━━━━┳━━━━━━━━━━━━━━━━━┓\n",
              "┃\u001b[1m \u001b[0m\u001b[1mLayer (type)                        \u001b[0m\u001b[1m \u001b[0m┃\u001b[1m \u001b[0m\u001b[1mOutput Shape               \u001b[0m\u001b[1m \u001b[0m┃\u001b[1m \u001b[0m\u001b[1m        Param #\u001b[0m\u001b[1m \u001b[0m┃\n",
              "┡━━━━━━━━━━━━━━━━━━━━━━━━━━━━━━━━━━━━━━╇━━━━━━━━━━━━━━━━━━━━━━━━━━━━━╇━━━━━━━━━━━━━━━━━┩\n",
              "│ rescaling (\u001b[38;5;33mRescaling\u001b[0m)                │ (\u001b[38;5;45mNone\u001b[0m, \u001b[38;5;34m512\u001b[0m, \u001b[38;5;34m512\u001b[0m, \u001b[38;5;34m3\u001b[0m)         │               \u001b[38;5;34m0\u001b[0m │\n",
              "├──────────────────────────────────────┼─────────────────────────────┼─────────────────┤\n",
              "│ random_flip (\u001b[38;5;33mRandomFlip\u001b[0m)             │ (\u001b[38;5;45mNone\u001b[0m, \u001b[38;5;34m512\u001b[0m, \u001b[38;5;34m512\u001b[0m, \u001b[38;5;34m3\u001b[0m)         │               \u001b[38;5;34m0\u001b[0m │\n",
              "├──────────────────────────────────────┼─────────────────────────────┼─────────────────┤\n",
              "│ random_rotation (\u001b[38;5;33mRandomRotation\u001b[0m)     │ (\u001b[38;5;45mNone\u001b[0m, \u001b[38;5;34m512\u001b[0m, \u001b[38;5;34m512\u001b[0m, \u001b[38;5;34m3\u001b[0m)         │               \u001b[38;5;34m0\u001b[0m │\n",
              "├──────────────────────────────────────┼─────────────────────────────┼─────────────────┤\n",
              "│ random_zoom (\u001b[38;5;33mRandomZoom\u001b[0m)             │ (\u001b[38;5;45mNone\u001b[0m, \u001b[38;5;34m512\u001b[0m, \u001b[38;5;34m512\u001b[0m, \u001b[38;5;34m3\u001b[0m)         │               \u001b[38;5;34m0\u001b[0m │\n",
              "├──────────────────────────────────────┼─────────────────────────────┼─────────────────┤\n",
              "│ random_contrast (\u001b[38;5;33mRandomContrast\u001b[0m)     │ (\u001b[38;5;45mNone\u001b[0m, \u001b[38;5;34m512\u001b[0m, \u001b[38;5;34m512\u001b[0m, \u001b[38;5;34m3\u001b[0m)         │               \u001b[38;5;34m0\u001b[0m │\n",
              "├──────────────────────────────────────┼─────────────────────────────┼─────────────────┤\n",
              "│ mobilenetv2_1.00_224 (\u001b[38;5;33mFunctional\u001b[0m)    │ (\u001b[38;5;45mNone\u001b[0m, \u001b[38;5;34m16\u001b[0m, \u001b[38;5;34m16\u001b[0m, \u001b[38;5;34m1280\u001b[0m)        │       \u001b[38;5;34m2,257,984\u001b[0m │\n",
              "├──────────────────────────────────────┼─────────────────────────────┼─────────────────┤\n",
              "│ global_average_pooling2d             │ (\u001b[38;5;45mNone\u001b[0m, \u001b[38;5;34m1280\u001b[0m)                │               \u001b[38;5;34m0\u001b[0m │\n",
              "│ (\u001b[38;5;33mGlobalAveragePooling2D\u001b[0m)             │                             │                 │\n",
              "├──────────────────────────────────────┼─────────────────────────────┼─────────────────┤\n",
              "│ dense (\u001b[38;5;33mDense\u001b[0m)                        │ (\u001b[38;5;45mNone\u001b[0m, \u001b[38;5;34m128\u001b[0m)                 │         \u001b[38;5;34m163,968\u001b[0m │\n",
              "├──────────────────────────────────────┼─────────────────────────────┼─────────────────┤\n",
              "│ batch_normalization                  │ (\u001b[38;5;45mNone\u001b[0m, \u001b[38;5;34m128\u001b[0m)                 │             \u001b[38;5;34m512\u001b[0m │\n",
              "│ (\u001b[38;5;33mBatchNormalization\u001b[0m)                 │                             │                 │\n",
              "├──────────────────────────────────────┼─────────────────────────────┼─────────────────┤\n",
              "│ dropout (\u001b[38;5;33mDropout\u001b[0m)                    │ (\u001b[38;5;45mNone\u001b[0m, \u001b[38;5;34m128\u001b[0m)                 │               \u001b[38;5;34m0\u001b[0m │\n",
              "├──────────────────────────────────────┼─────────────────────────────┼─────────────────┤\n",
              "│ dense_1 (\u001b[38;5;33mDense\u001b[0m)                      │ (\u001b[38;5;45mNone\u001b[0m, \u001b[38;5;34m5\u001b[0m)                   │             \u001b[38;5;34m645\u001b[0m │\n",
              "└──────────────────────────────────────┴─────────────────────────────┴─────────────────┘\n"
            ],
            "text/html": [
              "<pre style=\"white-space:pre;overflow-x:auto;line-height:normal;font-family:Menlo,'DejaVu Sans Mono',consolas,'Courier New',monospace\">┏━━━━━━━━━━━━━━━━━━━━━━━━━━━━━━━━━━━━━━┳━━━━━━━━━━━━━━━━━━━━━━━━━━━━━┳━━━━━━━━━━━━━━━━━┓\n",
              "┃<span style=\"font-weight: bold\"> Layer (type)                         </span>┃<span style=\"font-weight: bold\"> Output Shape                </span>┃<span style=\"font-weight: bold\">         Param # </span>┃\n",
              "┡━━━━━━━━━━━━━━━━━━━━━━━━━━━━━━━━━━━━━━╇━━━━━━━━━━━━━━━━━━━━━━━━━━━━━╇━━━━━━━━━━━━━━━━━┩\n",
              "│ rescaling (<span style=\"color: #0087ff; text-decoration-color: #0087ff\">Rescaling</span>)                │ (<span style=\"color: #00d7ff; text-decoration-color: #00d7ff\">None</span>, <span style=\"color: #00af00; text-decoration-color: #00af00\">512</span>, <span style=\"color: #00af00; text-decoration-color: #00af00\">512</span>, <span style=\"color: #00af00; text-decoration-color: #00af00\">3</span>)         │               <span style=\"color: #00af00; text-decoration-color: #00af00\">0</span> │\n",
              "├──────────────────────────────────────┼─────────────────────────────┼─────────────────┤\n",
              "│ random_flip (<span style=\"color: #0087ff; text-decoration-color: #0087ff\">RandomFlip</span>)             │ (<span style=\"color: #00d7ff; text-decoration-color: #00d7ff\">None</span>, <span style=\"color: #00af00; text-decoration-color: #00af00\">512</span>, <span style=\"color: #00af00; text-decoration-color: #00af00\">512</span>, <span style=\"color: #00af00; text-decoration-color: #00af00\">3</span>)         │               <span style=\"color: #00af00; text-decoration-color: #00af00\">0</span> │\n",
              "├──────────────────────────────────────┼─────────────────────────────┼─────────────────┤\n",
              "│ random_rotation (<span style=\"color: #0087ff; text-decoration-color: #0087ff\">RandomRotation</span>)     │ (<span style=\"color: #00d7ff; text-decoration-color: #00d7ff\">None</span>, <span style=\"color: #00af00; text-decoration-color: #00af00\">512</span>, <span style=\"color: #00af00; text-decoration-color: #00af00\">512</span>, <span style=\"color: #00af00; text-decoration-color: #00af00\">3</span>)         │               <span style=\"color: #00af00; text-decoration-color: #00af00\">0</span> │\n",
              "├──────────────────────────────────────┼─────────────────────────────┼─────────────────┤\n",
              "│ random_zoom (<span style=\"color: #0087ff; text-decoration-color: #0087ff\">RandomZoom</span>)             │ (<span style=\"color: #00d7ff; text-decoration-color: #00d7ff\">None</span>, <span style=\"color: #00af00; text-decoration-color: #00af00\">512</span>, <span style=\"color: #00af00; text-decoration-color: #00af00\">512</span>, <span style=\"color: #00af00; text-decoration-color: #00af00\">3</span>)         │               <span style=\"color: #00af00; text-decoration-color: #00af00\">0</span> │\n",
              "├──────────────────────────────────────┼─────────────────────────────┼─────────────────┤\n",
              "│ random_contrast (<span style=\"color: #0087ff; text-decoration-color: #0087ff\">RandomContrast</span>)     │ (<span style=\"color: #00d7ff; text-decoration-color: #00d7ff\">None</span>, <span style=\"color: #00af00; text-decoration-color: #00af00\">512</span>, <span style=\"color: #00af00; text-decoration-color: #00af00\">512</span>, <span style=\"color: #00af00; text-decoration-color: #00af00\">3</span>)         │               <span style=\"color: #00af00; text-decoration-color: #00af00\">0</span> │\n",
              "├──────────────────────────────────────┼─────────────────────────────┼─────────────────┤\n",
              "│ mobilenetv2_1.00_224 (<span style=\"color: #0087ff; text-decoration-color: #0087ff\">Functional</span>)    │ (<span style=\"color: #00d7ff; text-decoration-color: #00d7ff\">None</span>, <span style=\"color: #00af00; text-decoration-color: #00af00\">16</span>, <span style=\"color: #00af00; text-decoration-color: #00af00\">16</span>, <span style=\"color: #00af00; text-decoration-color: #00af00\">1280</span>)        │       <span style=\"color: #00af00; text-decoration-color: #00af00\">2,257,984</span> │\n",
              "├──────────────────────────────────────┼─────────────────────────────┼─────────────────┤\n",
              "│ global_average_pooling2d             │ (<span style=\"color: #00d7ff; text-decoration-color: #00d7ff\">None</span>, <span style=\"color: #00af00; text-decoration-color: #00af00\">1280</span>)                │               <span style=\"color: #00af00; text-decoration-color: #00af00\">0</span> │\n",
              "│ (<span style=\"color: #0087ff; text-decoration-color: #0087ff\">GlobalAveragePooling2D</span>)             │                             │                 │\n",
              "├──────────────────────────────────────┼─────────────────────────────┼─────────────────┤\n",
              "│ dense (<span style=\"color: #0087ff; text-decoration-color: #0087ff\">Dense</span>)                        │ (<span style=\"color: #00d7ff; text-decoration-color: #00d7ff\">None</span>, <span style=\"color: #00af00; text-decoration-color: #00af00\">128</span>)                 │         <span style=\"color: #00af00; text-decoration-color: #00af00\">163,968</span> │\n",
              "├──────────────────────────────────────┼─────────────────────────────┼─────────────────┤\n",
              "│ batch_normalization                  │ (<span style=\"color: #00d7ff; text-decoration-color: #00d7ff\">None</span>, <span style=\"color: #00af00; text-decoration-color: #00af00\">128</span>)                 │             <span style=\"color: #00af00; text-decoration-color: #00af00\">512</span> │\n",
              "│ (<span style=\"color: #0087ff; text-decoration-color: #0087ff\">BatchNormalization</span>)                 │                             │                 │\n",
              "├──────────────────────────────────────┼─────────────────────────────┼─────────────────┤\n",
              "│ dropout (<span style=\"color: #0087ff; text-decoration-color: #0087ff\">Dropout</span>)                    │ (<span style=\"color: #00d7ff; text-decoration-color: #00d7ff\">None</span>, <span style=\"color: #00af00; text-decoration-color: #00af00\">128</span>)                 │               <span style=\"color: #00af00; text-decoration-color: #00af00\">0</span> │\n",
              "├──────────────────────────────────────┼─────────────────────────────┼─────────────────┤\n",
              "│ dense_1 (<span style=\"color: #0087ff; text-decoration-color: #0087ff\">Dense</span>)                      │ (<span style=\"color: #00d7ff; text-decoration-color: #00d7ff\">None</span>, <span style=\"color: #00af00; text-decoration-color: #00af00\">5</span>)                   │             <span style=\"color: #00af00; text-decoration-color: #00af00\">645</span> │\n",
              "└──────────────────────────────────────┴─────────────────────────────┴─────────────────┘\n",
              "</pre>\n"
            ]
          },
          "metadata": {}
        },
        {
          "output_type": "display_data",
          "data": {
            "text/plain": [
              "\u001b[1m Total params: \u001b[0m\u001b[38;5;34m2,423,109\u001b[0m (9.24 MB)\n"
            ],
            "text/html": [
              "<pre style=\"white-space:pre;overflow-x:auto;line-height:normal;font-family:Menlo,'DejaVu Sans Mono',consolas,'Courier New',monospace\"><span style=\"font-weight: bold\"> Total params: </span><span style=\"color: #00af00; text-decoration-color: #00af00\">2,423,109</span> (9.24 MB)\n",
              "</pre>\n"
            ]
          },
          "metadata": {}
        },
        {
          "output_type": "display_data",
          "data": {
            "text/plain": [
              "\u001b[1m Trainable params: \u001b[0m\u001b[38;5;34m1,370,949\u001b[0m (5.23 MB)\n"
            ],
            "text/html": [
              "<pre style=\"white-space:pre;overflow-x:auto;line-height:normal;font-family:Menlo,'DejaVu Sans Mono',consolas,'Courier New',monospace\"><span style=\"font-weight: bold\"> Trainable params: </span><span style=\"color: #00af00; text-decoration-color: #00af00\">1,370,949</span> (5.23 MB)\n",
              "</pre>\n"
            ]
          },
          "metadata": {}
        },
        {
          "output_type": "display_data",
          "data": {
            "text/plain": [
              "\u001b[1m Non-trainable params: \u001b[0m\u001b[38;5;34m1,052,160\u001b[0m (4.01 MB)\n"
            ],
            "text/html": [
              "<pre style=\"white-space:pre;overflow-x:auto;line-height:normal;font-family:Menlo,'DejaVu Sans Mono',consolas,'Courier New',monospace\"><span style=\"font-weight: bold\"> Non-trainable params: </span><span style=\"color: #00af00; text-decoration-color: #00af00\">1,052,160</span> (4.01 MB)\n",
              "</pre>\n"
            ]
          },
          "metadata": {}
        }
      ]
    },
    {
      "cell_type": "code",
      "source": [
        "from tensorflow.keras.callbacks import Callback, EarlyStopping\n",
        "class customCallback(Callback):\n",
        "    def on_epoch_end(self, epoch, logs=None):\n",
        "        val_loss = logs.get('val_loss')\n",
        "        if val_loss is not None and val_loss <= 0.30:\n",
        "            print(f\"\\nStopping training: val_loss has reached {val_loss:.2f}\")\n",
        "            self.model.stop_training = True"
      ],
      "metadata": {
        "id": "HKit8_4rWZBr"
      },
      "execution_count": 12,
      "outputs": []
    },
    {
      "cell_type": "code",
      "source": [
        "custom_callback = customCallback()\n",
        "history = model.fit(\n",
        "    train_dataset,\n",
        "    epochs=100,\n",
        "    validation_data=validation_dataset,\n",
        "    callbacks=[custom_callback]\n",
        ")"
      ],
      "metadata": {
        "colab": {
          "base_uri": "https://localhost:8080/"
        },
        "id": "BBwSGEmJWdVg",
        "outputId": "7e356694-de72-40f9-cb07-42425273dac9"
      },
      "execution_count": 13,
      "outputs": [
        {
          "output_type": "stream",
          "name": "stdout",
          "text": [
            "Epoch 1/100\n",
            "\u001b[1m219/219\u001b[0m \u001b[32m━━━━━━━━━━━━━━━━━━━━\u001b[0m\u001b[37m\u001b[0m \u001b[1m100s\u001b[0m 363ms/step - accuracy: 0.5420 - loss: 9.8350 - val_accuracy: 0.4900 - val_loss: 4.7883\n",
            "Epoch 2/100\n",
            "\u001b[1m219/219\u001b[0m \u001b[32m━━━━━━━━━━━━━━━━━━━━\u001b[0m\u001b[37m\u001b[0m \u001b[1m98s\u001b[0m 446ms/step - accuracy: 0.6527 - loss: 3.4052 - val_accuracy: 0.4250 - val_loss: 4.1171\n",
            "Epoch 3/100\n",
            "\u001b[1m219/219\u001b[0m \u001b[32m━━━━━━━━━━━━━━━━━━━━\u001b[0m\u001b[37m\u001b[0m \u001b[1m78s\u001b[0m 356ms/step - accuracy: 0.6855 - loss: 1.8590 - val_accuracy: 0.3633 - val_loss: 4.8239\n",
            "Epoch 4/100\n",
            "\u001b[1m219/219\u001b[0m \u001b[32m━━━━━━━━━━━━━━━━━━━━\u001b[0m\u001b[37m\u001b[0m \u001b[1m77s\u001b[0m 352ms/step - accuracy: 0.7291 - loss: 1.2376 - val_accuracy: 0.2587 - val_loss: 7.1432\n",
            "Epoch 5/100\n",
            "\u001b[1m219/219\u001b[0m \u001b[32m━━━━━━━━━━━━━━━━━━━━\u001b[0m\u001b[37m\u001b[0m \u001b[1m77s\u001b[0m 352ms/step - accuracy: 0.7490 - loss: 0.9512 - val_accuracy: 0.3127 - val_loss: 7.3279\n",
            "Epoch 6/100\n",
            "\u001b[1m219/219\u001b[0m \u001b[32m━━━━━━━━━━━━━━━━━━━━\u001b[0m\u001b[37m\u001b[0m \u001b[1m82s\u001b[0m 353ms/step - accuracy: 0.7780 - loss: 0.7702 - val_accuracy: 0.2013 - val_loss: 9.0072\n",
            "Epoch 7/100\n",
            "\u001b[1m219/219\u001b[0m \u001b[32m━━━━━━━━━━━━━━━━━━━━\u001b[0m\u001b[37m\u001b[0m \u001b[1m82s\u001b[0m 354ms/step - accuracy: 0.7909 - loss: 0.6880 - val_accuracy: 0.3693 - val_loss: 6.5231\n",
            "Epoch 8/100\n",
            "\u001b[1m219/219\u001b[0m \u001b[32m━━━━━━━━━━━━━━━━━━━━\u001b[0m\u001b[37m\u001b[0m \u001b[1m78s\u001b[0m 356ms/step - accuracy: 0.7964 - loss: 0.6301 - val_accuracy: 0.2643 - val_loss: 6.6891\n",
            "Epoch 9/100\n",
            "\u001b[1m219/219\u001b[0m \u001b[32m━━━━━━━━━━━━━━━━━━━━\u001b[0m\u001b[37m\u001b[0m \u001b[1m77s\u001b[0m 353ms/step - accuracy: 0.8189 - loss: 0.5545 - val_accuracy: 0.4253 - val_loss: 4.5422\n",
            "Epoch 10/100\n",
            "\u001b[1m219/219\u001b[0m \u001b[32m━━━━━━━━━━━━━━━━━━━━\u001b[0m\u001b[37m\u001b[0m \u001b[1m78s\u001b[0m 356ms/step - accuracy: 0.8355 - loss: 0.4947 - val_accuracy: 0.2780 - val_loss: 6.8811\n",
            "Epoch 11/100\n",
            "\u001b[1m219/219\u001b[0m \u001b[32m━━━━━━━━━━━━━━━━━━━━\u001b[0m\u001b[37m\u001b[0m \u001b[1m102s\u001b[0m 448ms/step - accuracy: 0.8490 - loss: 0.4574 - val_accuracy: 0.5000 - val_loss: 5.7169\n",
            "Epoch 12/100\n",
            "\u001b[1m219/219\u001b[0m \u001b[32m━━━━━━━━━━━━━━━━━━━━\u001b[0m\u001b[37m\u001b[0m \u001b[1m78s\u001b[0m 354ms/step - accuracy: 0.8503 - loss: 0.4424 - val_accuracy: 0.5637 - val_loss: 3.6626\n",
            "Epoch 13/100\n",
            "\u001b[1m219/219\u001b[0m \u001b[32m━━━━━━━━━━━━━━━━━━━━\u001b[0m\u001b[37m\u001b[0m \u001b[1m81s\u001b[0m 351ms/step - accuracy: 0.8655 - loss: 0.4074 - val_accuracy: 0.5803 - val_loss: 3.5819\n",
            "Epoch 14/100\n",
            "\u001b[1m219/219\u001b[0m \u001b[32m━━━━━━━━━━━━━━━━━━━━\u001b[0m\u001b[37m\u001b[0m \u001b[1m83s\u001b[0m 354ms/step - accuracy: 0.8747 - loss: 0.3810 - val_accuracy: 0.4420 - val_loss: 3.8231\n",
            "Epoch 15/100\n",
            "\u001b[1m219/219\u001b[0m \u001b[32m━━━━━━━━━━━━━━━━━━━━\u001b[0m\u001b[37m\u001b[0m \u001b[1m81s\u001b[0m 349ms/step - accuracy: 0.8876 - loss: 0.3524 - val_accuracy: 0.5470 - val_loss: 3.0584\n",
            "Epoch 16/100\n",
            "\u001b[1m219/219\u001b[0m \u001b[32m━━━━━━━━━━━━━━━━━━━━\u001b[0m\u001b[37m\u001b[0m \u001b[1m103s\u001b[0m 448ms/step - accuracy: 0.8926 - loss: 0.3413 - val_accuracy: 0.4987 - val_loss: 3.8863\n",
            "Epoch 17/100\n",
            "\u001b[1m219/219\u001b[0m \u001b[32m━━━━━━━━━━━━━━━━━━━━\u001b[0m\u001b[37m\u001b[0m \u001b[1m121s\u001b[0m 350ms/step - accuracy: 0.9026 - loss: 0.3165 - val_accuracy: 0.6297 - val_loss: 1.7379\n",
            "Epoch 18/100\n",
            "\u001b[1m219/219\u001b[0m \u001b[32m━━━━━━━━━━━━━━━━━━━━\u001b[0m\u001b[37m\u001b[0m \u001b[1m83s\u001b[0m 354ms/step - accuracy: 0.8970 - loss: 0.3123 - val_accuracy: 0.5047 - val_loss: 3.2716\n",
            "Epoch 19/100\n",
            "\u001b[1m219/219\u001b[0m \u001b[32m━━━━━━━━━━━━━━━━━━━━\u001b[0m\u001b[37m\u001b[0m \u001b[1m82s\u001b[0m 353ms/step - accuracy: 0.8991 - loss: 0.2985 - val_accuracy: 0.5803 - val_loss: 1.8541\n",
            "Epoch 20/100\n",
            "\u001b[1m219/219\u001b[0m \u001b[32m━━━━━━━━━━━━━━━━━━━━\u001b[0m\u001b[37m\u001b[0m \u001b[1m82s\u001b[0m 355ms/step - accuracy: 0.9111 - loss: 0.2797 - val_accuracy: 0.7640 - val_loss: 0.8056\n",
            "Epoch 21/100\n",
            "\u001b[1m219/219\u001b[0m \u001b[32m━━━━━━━━━━━━━━━━━━━━\u001b[0m\u001b[37m\u001b[0m \u001b[1m77s\u001b[0m 353ms/step - accuracy: 0.9204 - loss: 0.2526 - val_accuracy: 0.6670 - val_loss: 1.3137\n",
            "Epoch 22/100\n",
            "\u001b[1m219/219\u001b[0m \u001b[32m━━━━━━━━━━━━━━━━━━━━\u001b[0m\u001b[37m\u001b[0m \u001b[1m77s\u001b[0m 353ms/step - accuracy: 0.9145 - loss: 0.2614 - val_accuracy: 0.6817 - val_loss: 1.2339\n",
            "Epoch 23/100\n",
            "\u001b[1m219/219\u001b[0m \u001b[32m━━━━━━━━━━━━━━━━━━━━\u001b[0m\u001b[37m\u001b[0m \u001b[1m82s\u001b[0m 352ms/step - accuracy: 0.9168 - loss: 0.2604 - val_accuracy: 0.7840 - val_loss: 0.7396\n",
            "Epoch 24/100\n",
            "\u001b[1m219/219\u001b[0m \u001b[32m━━━━━━━━━━━━━━━━━━━━\u001b[0m\u001b[37m\u001b[0m \u001b[1m82s\u001b[0m 351ms/step - accuracy: 0.9276 - loss: 0.2341 - val_accuracy: 0.8423 - val_loss: 0.5312\n",
            "Epoch 25/100\n",
            "\u001b[1m219/219\u001b[0m \u001b[32m━━━━━━━━━━━━━━━━━━━━\u001b[0m\u001b[37m\u001b[0m \u001b[1m77s\u001b[0m 352ms/step - accuracy: 0.9226 - loss: 0.2421 - val_accuracy: 0.8310 - val_loss: 0.5406\n",
            "Epoch 26/100\n",
            "\u001b[1m219/219\u001b[0m \u001b[32m━━━━━━━━━━━━━━━━━━━━\u001b[0m\u001b[37m\u001b[0m \u001b[1m97s\u001b[0m 445ms/step - accuracy: 0.9299 - loss: 0.2217 - val_accuracy: 0.8307 - val_loss: 0.5658\n",
            "Epoch 27/100\n",
            "\u001b[1m219/219\u001b[0m \u001b[32m━━━━━━━━━━━━━━━━━━━━\u001b[0m\u001b[37m\u001b[0m \u001b[1m122s\u001b[0m 352ms/step - accuracy: 0.9261 - loss: 0.2259 - val_accuracy: 0.8297 - val_loss: 0.5906\n",
            "Epoch 28/100\n",
            "\u001b[1m219/219\u001b[0m \u001b[32m━━━━━━━━━━━━━━━━━━━━\u001b[0m\u001b[37m\u001b[0m \u001b[1m102s\u001b[0m 446ms/step - accuracy: 0.9244 - loss: 0.2129 - val_accuracy: 0.7913 - val_loss: 0.7419\n",
            "Epoch 29/100\n",
            "\u001b[1m219/219\u001b[0m \u001b[32m━━━━━━━━━━━━━━━━━━━━\u001b[0m\u001b[37m\u001b[0m \u001b[1m121s\u001b[0m 352ms/step - accuracy: 0.9410 - loss: 0.1867 - val_accuracy: 0.8007 - val_loss: 0.7506\n",
            "Epoch 30/100\n",
            "\u001b[1m219/219\u001b[0m \u001b[32m━━━━━━━━━━━━━━━━━━━━\u001b[0m\u001b[37m\u001b[0m \u001b[1m78s\u001b[0m 354ms/step - accuracy: 0.9406 - loss: 0.1991 - val_accuracy: 0.8443 - val_loss: 0.5759\n",
            "Epoch 31/100\n",
            "\u001b[1m219/219\u001b[0m \u001b[32m━━━━━━━━━━━━━━━━━━━━\u001b[0m\u001b[37m\u001b[0m \u001b[1m82s\u001b[0m 353ms/step - accuracy: 0.9377 - loss: 0.1968 - val_accuracy: 0.8173 - val_loss: 0.6673\n",
            "Epoch 32/100\n",
            "\u001b[1m219/219\u001b[0m \u001b[32m━━━━━━━━━━━━━━━━━━━━\u001b[0m\u001b[37m\u001b[0m \u001b[1m81s\u001b[0m 349ms/step - accuracy: 0.9410 - loss: 0.1820 - val_accuracy: 0.7563 - val_loss: 0.9950\n",
            "Epoch 33/100\n",
            "\u001b[1m219/219\u001b[0m \u001b[32m━━━━━━━━━━━━━━━━━━━━\u001b[0m\u001b[37m\u001b[0m \u001b[1m77s\u001b[0m 352ms/step - accuracy: 0.9487 - loss: 0.1736 - val_accuracy: 0.8373 - val_loss: 0.5673\n",
            "Epoch 34/100\n",
            "\u001b[1m219/219\u001b[0m \u001b[32m━━━━━━━━━━━━━━━━━━━━\u001b[0m\u001b[37m\u001b[0m \u001b[1m98s\u001b[0m 446ms/step - accuracy: 0.9522 - loss: 0.1592 - val_accuracy: 0.8373 - val_loss: 0.5268\n",
            "Epoch 35/100\n",
            "\u001b[1m219/219\u001b[0m \u001b[32m━━━━━━━━━━━━━━━━━━━━\u001b[0m\u001b[37m\u001b[0m \u001b[1m78s\u001b[0m 354ms/step - accuracy: 0.9466 - loss: 0.1718 - val_accuracy: 0.8500 - val_loss: 0.5289\n",
            "Epoch 36/100\n",
            "\u001b[1m219/219\u001b[0m \u001b[32m━━━━━━━━━━━━━━━━━━━━\u001b[0m\u001b[37m\u001b[0m \u001b[1m77s\u001b[0m 353ms/step - accuracy: 0.9552 - loss: 0.1532 - val_accuracy: 0.8787 - val_loss: 0.4433\n",
            "Epoch 37/100\n",
            "\u001b[1m219/219\u001b[0m \u001b[32m━━━━━━━━━━━━━━━━━━━━\u001b[0m\u001b[37m\u001b[0m \u001b[1m82s\u001b[0m 351ms/step - accuracy: 0.9521 - loss: 0.1550 - val_accuracy: 0.8693 - val_loss: 0.4852\n",
            "Epoch 38/100\n",
            "\u001b[1m219/219\u001b[0m \u001b[32m━━━━━━━━━━━━━━━━━━━━\u001b[0m\u001b[37m\u001b[0m \u001b[1m78s\u001b[0m 354ms/step - accuracy: 0.9531 - loss: 0.1547 - val_accuracy: 0.8813 - val_loss: 0.4024\n",
            "Epoch 39/100\n",
            "\u001b[1m219/219\u001b[0m \u001b[32m━━━━━━━━━━━━━━━━━━━━\u001b[0m\u001b[37m\u001b[0m \u001b[1m78s\u001b[0m 354ms/step - accuracy: 0.9503 - loss: 0.1569 - val_accuracy: 0.8337 - val_loss: 0.5361\n",
            "Epoch 40/100\n",
            "\u001b[1m219/219\u001b[0m \u001b[32m━━━━━━━━━━━━━━━━━━━━\u001b[0m\u001b[37m\u001b[0m \u001b[1m98s\u001b[0m 446ms/step - accuracy: 0.9527 - loss: 0.1495 - val_accuracy: 0.8360 - val_loss: 0.5575\n",
            "Epoch 41/100\n",
            "\u001b[1m219/219\u001b[0m \u001b[32m━━━━━━━━━━━━━━━━━━━━\u001b[0m\u001b[37m\u001b[0m \u001b[1m77s\u001b[0m 353ms/step - accuracy: 0.9593 - loss: 0.1361 - val_accuracy: 0.7957 - val_loss: 0.6780\n",
            "Epoch 42/100\n",
            "\u001b[1m219/219\u001b[0m \u001b[32m━━━━━━━━━━━━━━━━━━━━\u001b[0m\u001b[37m\u001b[0m \u001b[1m82s\u001b[0m 353ms/step - accuracy: 0.9566 - loss: 0.1436 - val_accuracy: 0.8430 - val_loss: 0.5385\n",
            "Epoch 43/100\n",
            "\u001b[1m219/219\u001b[0m \u001b[32m━━━━━━━━━━━━━━━━━━━━\u001b[0m\u001b[37m\u001b[0m \u001b[1m82s\u001b[0m 352ms/step - accuracy: 0.9574 - loss: 0.1345 - val_accuracy: 0.8687 - val_loss: 0.4422\n",
            "Epoch 44/100\n",
            "\u001b[1m219/219\u001b[0m \u001b[32m━━━━━━━━━━━━━━━━━━━━\u001b[0m\u001b[37m\u001b[0m \u001b[1m78s\u001b[0m 353ms/step - accuracy: 0.9598 - loss: 0.1293 - val_accuracy: 0.8980 - val_loss: 0.3681\n",
            "Epoch 45/100\n",
            "\u001b[1m219/219\u001b[0m \u001b[32m━━━━━━━━━━━━━━━━━━━━\u001b[0m\u001b[37m\u001b[0m \u001b[1m77s\u001b[0m 352ms/step - accuracy: 0.9610 - loss: 0.1183 - val_accuracy: 0.8583 - val_loss: 0.4829\n",
            "Epoch 46/100\n",
            "\u001b[1m219/219\u001b[0m \u001b[32m━━━━━━━━━━━━━━━━━━━━\u001b[0m\u001b[37m\u001b[0m \u001b[1m103s\u001b[0m 447ms/step - accuracy: 0.9566 - loss: 0.1331 - val_accuracy: 0.8603 - val_loss: 0.4690\n",
            "Epoch 47/100\n",
            "\u001b[1m219/219\u001b[0m \u001b[32m━━━━━━━━━━━━━━━━━━━━\u001b[0m\u001b[37m\u001b[0m \u001b[1m78s\u001b[0m 354ms/step - accuracy: 0.9647 - loss: 0.1219 - val_accuracy: 0.8477 - val_loss: 0.5474\n",
            "Epoch 48/100\n",
            "\u001b[1m219/219\u001b[0m \u001b[32m━━━━━━━━━━━━━━━━━━━━\u001b[0m\u001b[37m\u001b[0m \u001b[1m82s\u001b[0m 353ms/step - accuracy: 0.9661 - loss: 0.1163 - val_accuracy: 0.8373 - val_loss: 0.5363\n",
            "Epoch 49/100\n",
            "\u001b[1m219/219\u001b[0m \u001b[32m━━━━━━━━━━━━━━━━━━━━\u001b[0m\u001b[37m\u001b[0m \u001b[1m81s\u001b[0m 351ms/step - accuracy: 0.9617 - loss: 0.1222 - val_accuracy: 0.8313 - val_loss: 0.5972\n",
            "Epoch 50/100\n",
            "\u001b[1m219/219\u001b[0m \u001b[32m━━━━━━━━━━━━━━━━━━━━\u001b[0m\u001b[37m\u001b[0m \u001b[1m103s\u001b[0m 446ms/step - accuracy: 0.9648 - loss: 0.1121 - val_accuracy: 0.8827 - val_loss: 0.3992\n",
            "Epoch 51/100\n",
            "\u001b[1m219/219\u001b[0m \u001b[32m━━━━━━━━━━━━━━━━━━━━\u001b[0m\u001b[37m\u001b[0m \u001b[1m122s\u001b[0m 353ms/step - accuracy: 0.9638 - loss: 0.1198 - val_accuracy: 0.8857 - val_loss: 0.3808\n",
            "Epoch 52/100\n",
            "\u001b[1m219/219\u001b[0m \u001b[32m━━━━━━━━━━━━━━━━━━━━\u001b[0m\u001b[37m\u001b[0m \u001b[1m102s\u001b[0m 447ms/step - accuracy: 0.9655 - loss: 0.1229 - val_accuracy: 0.8977 - val_loss: 0.3353\n",
            "Epoch 53/100\n",
            "\u001b[1m219/219\u001b[0m \u001b[32m━━━━━━━━━━━━━━━━━━━━\u001b[0m\u001b[37m\u001b[0m \u001b[1m142s\u001b[0m 448ms/step - accuracy: 0.9736 - loss: 0.0954 - val_accuracy: 0.8620 - val_loss: 0.4562\n",
            "Epoch 54/100\n",
            "\u001b[1m219/219\u001b[0m \u001b[32m━━━━━━━━━━━━━━━━━━━━\u001b[0m\u001b[37m\u001b[0m \u001b[1m122s\u001b[0m 355ms/step - accuracy: 0.9671 - loss: 0.1070 - val_accuracy: 0.8790 - val_loss: 0.3983\n",
            "Epoch 55/100\n",
            "\u001b[1m219/219\u001b[0m \u001b[32m━━━━━━━━━━━━━━━━━━━━\u001b[0m\u001b[37m\u001b[0m \u001b[1m81s\u001b[0m 352ms/step - accuracy: 0.9731 - loss: 0.0951 - val_accuracy: 0.8617 - val_loss: 0.4818\n",
            "Epoch 56/100\n",
            "\u001b[1m219/219\u001b[0m \u001b[32m━━━━━━━━━━━━━━━━━━━━\u001b[0m\u001b[37m\u001b[0m \u001b[1m102s\u001b[0m 445ms/step - accuracy: 0.9694 - loss: 0.1048 - val_accuracy: 0.8793 - val_loss: 0.4222\n",
            "Epoch 57/100\n",
            "\u001b[1m219/219\u001b[0m \u001b[32m━━━━━━━━━━━━━━━━━━━━\u001b[0m\u001b[37m\u001b[0m \u001b[1m122s\u001b[0m 354ms/step - accuracy: 0.9724 - loss: 0.1042 - val_accuracy: 0.8773 - val_loss: 0.4220\n",
            "Epoch 58/100\n",
            "\u001b[1m219/219\u001b[0m \u001b[32m━━━━━━━━━━━━━━━━━━━━\u001b[0m\u001b[37m\u001b[0m \u001b[1m77s\u001b[0m 352ms/step - accuracy: 0.9613 - loss: 0.1239 - val_accuracy: 0.8863 - val_loss: 0.4016\n",
            "Epoch 59/100\n",
            "\u001b[1m219/219\u001b[0m \u001b[32m━━━━━━━━━━━━━━━━━━━━\u001b[0m\u001b[37m\u001b[0m \u001b[1m78s\u001b[0m 354ms/step - accuracy: 0.9739 - loss: 0.0918 - val_accuracy: 0.8807 - val_loss: 0.4135\n",
            "Epoch 60/100\n",
            "\u001b[1m219/219\u001b[0m \u001b[32m━━━━━━━━━━━━━━━━━━━━\u001b[0m\u001b[37m\u001b[0m \u001b[1m82s\u001b[0m 356ms/step - accuracy: 0.9689 - loss: 0.1014 - val_accuracy: 0.9103 - val_loss: 0.3232\n",
            "Epoch 61/100\n",
            "\u001b[1m219/219\u001b[0m \u001b[32m━━━━━━━━━━━━━━━━━━━━\u001b[0m\u001b[37m\u001b[0m \u001b[1m77s\u001b[0m 350ms/step - accuracy: 0.9724 - loss: 0.0968 - val_accuracy: 0.8933 - val_loss: 0.3666\n",
            "Epoch 62/100\n",
            "\u001b[1m219/219\u001b[0m \u001b[32m━━━━━━━━━━━━━━━━━━━━\u001b[0m\u001b[37m\u001b[0m \u001b[1m77s\u001b[0m 352ms/step - accuracy: 0.9689 - loss: 0.1055 - val_accuracy: 0.9027 - val_loss: 0.3411\n",
            "Epoch 63/100\n",
            "\u001b[1m219/219\u001b[0m \u001b[32m━━━━━━━━━━━━━━━━━━━━\u001b[0m\u001b[37m\u001b[0m \u001b[1m83s\u001b[0m 356ms/step - accuracy: 0.9725 - loss: 0.0907 - val_accuracy: 0.8910 - val_loss: 0.3736\n",
            "Epoch 64/100\n",
            "\u001b[1m219/219\u001b[0m \u001b[32m━━━━━━━━━━━━━━━━━━━━\u001b[0m\u001b[37m\u001b[0m \u001b[1m77s\u001b[0m 352ms/step - accuracy: 0.9734 - loss: 0.0859 - val_accuracy: 0.8637 - val_loss: 0.4784\n",
            "Epoch 65/100\n",
            "\u001b[1m219/219\u001b[0m \u001b[32m━━━━━━━━━━━━━━━━━━━━\u001b[0m\u001b[37m\u001b[0m \u001b[1m78s\u001b[0m 356ms/step - accuracy: 0.9747 - loss: 0.0875 - val_accuracy: 0.8977 - val_loss: 0.3438\n",
            "Epoch 66/100\n",
            "\u001b[1m219/219\u001b[0m \u001b[32m━━━━━━━━━━━━━━━━━━━━\u001b[0m\u001b[37m\u001b[0m \u001b[1m78s\u001b[0m 357ms/step - accuracy: 0.9743 - loss: 0.0842 - val_accuracy: 0.8740 - val_loss: 0.4467\n",
            "Epoch 67/100\n",
            "\u001b[1m219/219\u001b[0m \u001b[32m━━━━━━━━━━━━━━━━━━━━\u001b[0m\u001b[37m\u001b[0m \u001b[1m82s\u001b[0m 358ms/step - accuracy: 0.9739 - loss: 0.0827 - val_accuracy: 0.8897 - val_loss: 0.3832\n",
            "Epoch 68/100\n",
            "\u001b[1m219/219\u001b[0m \u001b[32m━━━━━━━━━━━━━━━━━━━━\u001b[0m\u001b[37m\u001b[0m \u001b[1m78s\u001b[0m 354ms/step - accuracy: 0.9760 - loss: 0.0821 - val_accuracy: 0.8907 - val_loss: 0.3884\n",
            "Epoch 69/100\n",
            "\u001b[1m219/219\u001b[0m \u001b[32m━━━━━━━━━━━━━━━━━━━━\u001b[0m\u001b[37m\u001b[0m \u001b[1m82s\u001b[0m 356ms/step - accuracy: 0.9732 - loss: 0.0887 - val_accuracy: 0.8783 - val_loss: 0.4227\n",
            "Epoch 70/100\n",
            "\u001b[1m219/219\u001b[0m \u001b[32m━━━━━━━━━━━━━━━━━━━━\u001b[0m\u001b[37m\u001b[0m \u001b[1m81s\u001b[0m 351ms/step - accuracy: 0.9693 - loss: 0.0881 - val_accuracy: 0.8707 - val_loss: 0.4449\n",
            "Epoch 71/100\n",
            "\u001b[1m219/219\u001b[0m \u001b[32m━━━━━━━━━━━━━━━━━━━━\u001b[0m\u001b[37m\u001b[0m \u001b[1m82s\u001b[0m 352ms/step - accuracy: 0.9711 - loss: 0.0905 - val_accuracy: 0.8793 - val_loss: 0.4241\n",
            "Epoch 72/100\n",
            "\u001b[1m219/219\u001b[0m \u001b[32m━━━━━━━━━━━━━━━━━━━━\u001b[0m\u001b[37m\u001b[0m \u001b[1m77s\u001b[0m 351ms/step - accuracy: 0.9761 - loss: 0.0842 - val_accuracy: 0.8950 - val_loss: 0.3654\n",
            "Epoch 73/100\n",
            "\u001b[1m219/219\u001b[0m \u001b[32m━━━━━━━━━━━━━━━━━━━━\u001b[0m\u001b[37m\u001b[0m \u001b[1m82s\u001b[0m 352ms/step - accuracy: 0.9745 - loss: 0.0888 - val_accuracy: 0.8947 - val_loss: 0.3719\n",
            "Epoch 74/100\n",
            "\u001b[1m219/219\u001b[0m \u001b[32m━━━━━━━━━━━━━━━━━━━━\u001b[0m\u001b[37m\u001b[0m \u001b[1m77s\u001b[0m 351ms/step - accuracy: 0.9757 - loss: 0.0762 - val_accuracy: 0.8790 - val_loss: 0.4200\n",
            "Epoch 75/100\n",
            "\u001b[1m219/219\u001b[0m \u001b[32m━━━━━━━━━━━━━━━━━━━━\u001b[0m\u001b[37m\u001b[0m \u001b[1m98s\u001b[0m 447ms/step - accuracy: 0.9769 - loss: 0.0751 - val_accuracy: 0.8953 - val_loss: 0.3643\n",
            "Epoch 76/100\n",
            "\u001b[1m219/219\u001b[0m \u001b[32m━━━━━━━━━━━━━━━━━━━━\u001b[0m\u001b[37m\u001b[0m \u001b[1m78s\u001b[0m 356ms/step - accuracy: 0.9772 - loss: 0.0799 - val_accuracy: 0.9000 - val_loss: 0.3404\n",
            "Epoch 77/100\n",
            "\u001b[1m219/219\u001b[0m \u001b[32m━━━━━━━━━━━━━━━━━━━━\u001b[0m\u001b[37m\u001b[0m \u001b[1m81s\u001b[0m 352ms/step - accuracy: 0.9761 - loss: 0.0762 - val_accuracy: 0.9043 - val_loss: 0.3408\n",
            "Epoch 78/100\n",
            "\u001b[1m219/219\u001b[0m \u001b[32m━━━━━━━━━━━━━━━━━━━━\u001b[0m\u001b[37m\u001b[0m \u001b[1m77s\u001b[0m 352ms/step - accuracy: 0.9778 - loss: 0.0751 - val_accuracy: 0.8983 - val_loss: 0.3616\n",
            "Epoch 79/100\n",
            "\u001b[1m219/219\u001b[0m \u001b[32m━━━━━━━━━━━━━━━━━━━━\u001b[0m\u001b[37m\u001b[0m \u001b[1m82s\u001b[0m 354ms/step - accuracy: 0.9768 - loss: 0.0789 - val_accuracy: 0.8857 - val_loss: 0.4054\n",
            "Epoch 80/100\n",
            "\u001b[1m219/219\u001b[0m \u001b[32m━━━━━━━━━━━━━━━━━━━━\u001b[0m\u001b[37m\u001b[0m \u001b[1m78s\u001b[0m 354ms/step - accuracy: 0.9771 - loss: 0.0732 - val_accuracy: 0.8950 - val_loss: 0.3606\n",
            "Epoch 81/100\n",
            "\u001b[1m219/219\u001b[0m \u001b[32m━━━━━━━━━━━━━━━━━━━━\u001b[0m\u001b[37m\u001b[0m \u001b[1m82s\u001b[0m 353ms/step - accuracy: 0.9810 - loss: 0.0669 - val_accuracy: 0.8903 - val_loss: 0.4028\n",
            "Epoch 82/100\n",
            "\u001b[1m219/219\u001b[0m \u001b[32m━━━━━━━━━━━━━━━━━━━━\u001b[0m\u001b[37m\u001b[0m \u001b[1m98s\u001b[0m 447ms/step - accuracy: 0.9819 - loss: 0.0691 - val_accuracy: 0.8997 - val_loss: 0.3483\n",
            "Epoch 83/100\n",
            "\u001b[1m219/219\u001b[0m \u001b[32m━━━━━━━━━━━━━━━━━━━━\u001b[0m\u001b[37m\u001b[0m \u001b[1m122s\u001b[0m 355ms/step - accuracy: 0.9807 - loss: 0.0673 - val_accuracy: 0.8840 - val_loss: 0.3962\n",
            "Epoch 84/100\n",
            "\u001b[1m219/219\u001b[0m \u001b[32m━━━━━━━━━━━━━━━━━━━━\u001b[0m\u001b[37m\u001b[0m \u001b[1m0s\u001b[0m 259ms/step - accuracy: 0.9812 - loss: 0.0658\n",
            "Stopping training: val_loss has reached 0.28\n",
            "\u001b[1m219/219\u001b[0m \u001b[32m━━━━━━━━━━━━━━━━━━━━\u001b[0m\u001b[37m\u001b[0m \u001b[1m77s\u001b[0m 351ms/step - accuracy: 0.9812 - loss: 0.0658 - val_accuracy: 0.9193 - val_loss: 0.2763\n"
          ]
        }
      ]
    },
    {
      "cell_type": "code",
      "source": [
        "# Evaluasi model pada validation set\n",
        "val_loss, val_acc = model.evaluate(validation_dataset)\n",
        "print(f\"Validation Loss: {val_loss}\")\n",
        "print(f\"Validation Accuracy: {val_acc}\")\n",
        "\n",
        "# Plot grafik akurasi dan loss\n",
        "def plot_history(history):\n",
        "    plt.figure(figsize=(12, 4))\n",
        "\n",
        "    # Plot akurasi\n",
        "    plt.subplot(1, 2, 1)\n",
        "    plt.plot(history.history['accuracy'], label='Train Accuracy')\n",
        "    plt.plot(history.history['val_accuracy'], label='Validation Accuracy')\n",
        "    plt.xlabel('Epoch')\n",
        "    plt.ylabel('Accuracy')\n",
        "    plt.legend()\n",
        "    plt.title('Accuracy')\n",
        "\n",
        "    # Plot loss\n",
        "    plt.subplot(1, 2, 2)\n",
        "    plt.plot(history.history['loss'], label='Train Loss')\n",
        "    plt.plot(history.history['val_loss'], label='Validation Loss')\n",
        "    plt.xlabel('Epoch')\n",
        "    plt.ylabel('Loss')\n",
        "    plt.legend()\n",
        "    plt.title('Loss')\n",
        "\n",
        "    plt.show()\n",
        "\n",
        "# Visualisasi history pelatihan\n",
        "plot_history(history)"
      ],
      "metadata": {
        "id": "i8lBIyWCWguL",
        "colab": {
          "base_uri": "https://localhost:8080/",
          "height": 418
        },
        "outputId": "de5d1c52-d843-4a28-abb5-bc34a6795e12"
      },
      "execution_count": 14,
      "outputs": [
        {
          "output_type": "stream",
          "name": "stdout",
          "text": [
            "\u001b[1m94/94\u001b[0m \u001b[32m━━━━━━━━━━━━━━━━━━━━\u001b[0m\u001b[37m\u001b[0m \u001b[1m21s\u001b[0m 225ms/step - accuracy: 0.9422 - loss: 0.2052\n",
            "Validation Loss: 0.27630168199539185\n",
            "Validation Accuracy: 0.9193333387374878\n"
          ]
        },
        {
          "output_type": "display_data",
          "data": {
            "text/plain": [
              "<Figure size 1200x400 with 2 Axes>"
            ],
            "image/png": "[encoded data removed]"
          },
          "metadata": {}
        }
      ]
    },
    {
      "cell_type": "code",
      "source": [
        "import tensorflow as tf\n",
        "import numpy as np\n",
        "from io import BytesIO\n",
        "import ipywidgets as widgets\n",
        "from IPython.display import display\n",
        "\n",
        "# Asumsikan model sudah dimuat, misalnya:\n",
        "# model = tf.keras.models.load_model(\"your_diabetic_retinopathy_model.h5\")\n",
        "\n",
        "# Buat widget untuk upload file\n",
        "uploader = widgets.FileUpload(accept=\"image/*\", multiple=True)\n",
        "\n",
        "# Buat output widget untuk menampilkan hasil\n",
        "out = widgets.Output()\n",
        "\n",
        "# Menampilkan widget upload dan output\n",
        "display(uploader)\n",
        "display(out)\n",
        "\n",
        "def file_predict(filename, file, out):\n",
        "    \"\"\" Fungsi untuk membuat prediksi dan mencetak hasilnya.\"\"\"\n",
        "    # Load dan preprocess gambar\n",
        "    image = tf.keras.utils.load_img(file, target_size=(512, 512))  # Sesuaikan ukuran gambar sesuai model\n",
        "    image = tf.keras.utils.img_to_array(image)\n",
        "    image = image / 512.0  # Normalisasi pixel agar berada dalam rentang [0, 1]\n",
        "    image = np.expand_dims(image, axis=0)\n",
        "\n",
        "    # Prediksi model untuk tingkat diabetic retinopathy\n",
        "    prediction = model.predict(image, verbose=0)[0]\n",
        "    predicted_class = np.argmax(prediction)\n",
        "    predicted_probability = prediction[predicted_class]\n",
        "\n",
        "    with out:\n",
        "        # Tampilkan hasil prediksi\n",
        "        print(f\"{filename} diprediksi dengan tingkat keparahan {predicted_class} dengan probabilitas {predicted_probability:.2f}\")\n",
        "        if predicted_class == 0:\n",
        "            print(\"Tidak ada retinopati yang terdeteksi.\")\n",
        "        elif predicted_class == 1:\n",
        "            print(\"Retinopati ringan terdeteksi.\")\n",
        "        elif predicted_class == 2:\n",
        "            print(\"Retinopati sedang terdeteksi.\")\n",
        "        elif predicted_class == 3:\n",
        "            print(\"Retinopati parah terdeteksi.\")\n",
        "        elif predicted_class == 4:\n",
        "            print(\"Retinopati proliferatif terdeteksi.\")\n",
        "\n",
        "def on_upload_change(change):\n",
        "    \"\"\" Fungsi untuk menangani perubahan pada upload dan menjalankan prediksi.\"\"\"\n",
        "    # Mengakses data yang diunggah\n",
        "    uploaded_files = uploader.value\n",
        "    for filename, file_info in uploaded_files.items():\n",
        "        file_jpgdata = BytesIO(file_info[\"content\"])  # Ambil konten file sebagai bytes\n",
        "        file_predict(filename, file_jpgdata, out)  # Lakukan prediksi\n",
        "\n",
        "# Tambahkan observer untuk mengamati perubahan pada widget\n",
        "uploader.observe(on_upload_change, names='value')\n"
      ],
      "metadata": {
        "colab": {
          "base_uri": "https://localhost:8080/",
          "height": 153,
          "referenced_widgets": [
            "55be2510c6fc4541a73797917f2b24f3",
            "7dc39d524431464c985760901ec4eb9a",
            "e3ec369ade8d43c7a19df6e541750a2e",
            "73da5fe0d07748ceb8b7051d948818b2",
            "c88d44fd2eb74795bff69fb47a16c9d8"
          ]
        },
        "id": "g8zRNt5QqKTA",
        "outputId": "02060dae-da18-4dbe-f361-23320fce5487"
      },
      "execution_count": 15,
      "outputs": [
        {
          "output_type": "display_data",
          "data": {
            "text/plain": [
              "FileUpload(value={}, accept='image/*', description='Upload', multiple=True)"
            ],
            "application/vnd.jupyter.widget-view+json": {
              "version_major": 2,
              "version_minor": 0,
              "model_id": "55be2510c6fc4541a73797917f2b24f3"
            }
          },
          "metadata": {}
        },
        {
          "output_type": "display_data",
          "data": {
            "text/plain": [
              "Output()"
            ],
            "application/vnd.jupyter.widget-view+json": {
              "version_major": 2,
              "version_minor": 0,
              "model_id": "73da5fe0d07748ceb8b7051d948818b2"
            }
          },
          "metadata": {}
        }
      ]
    },
    {
      "cell_type": "code",
      "source": [
        "model.save('my_model.keras')"
      ],
      "metadata": {
        "id": "GBdd5HvKqxQH"
      },
      "execution_count": 19,
      "outputs": []
    },
    {
      "cell_type": "code",
      "source": [
        "saved_model_dir = \"saved_model\"\n",
        "model.export(saved_model_dir)"
      ],
      "metadata": {
        "id": "o0IxgCOn6-15",
        "colab": {
          "base_uri": "https://localhost:8080/"
        },
        "outputId": "7584c1ba-2998-4726-b185-c727fcaefcfd"
      },
      "execution_count": 20,
      "outputs": [
        {
          "output_type": "stream",
          "name": "stdout",
          "text": [
            "Saved artifact at 'saved_model'. The following endpoints are available:\n",
            "\n",
            "* Endpoint 'serve'\n",
            "  args_0 (POSITIONAL_ONLY): TensorSpec(shape=(None, 512, 512, 3), dtype=tf.float32, name='keras_tensor_155')\n",
            "Output Type:\n",
            "  TensorSpec(shape=(None, 5), dtype=tf.float16, name=None)\n",
            "Captures:\n",
            "  133726289389248: TensorSpec(shape=(), dtype=tf.resource, name=None)\n",
            "  133726362578864: TensorSpec(shape=(), dtype=tf.resource, name=None)\n",
            "  133726282675328: TensorSpec(shape=(), dtype=tf.resource, name=None)\n",
            "  133726282713568: TensorSpec(shape=(), dtype=tf.resource, name=None)\n",
            "  133728907960816: TensorSpec(shape=(), dtype=tf.resource, name=None)\n",
            "  133726362581856: TensorSpec(shape=(), dtype=tf.resource, name=None)\n",
            "  133726362474928: TensorSpec(shape=(), dtype=tf.resource, name=None)\n",
            "  133726362472112: TensorSpec(shape=(), dtype=tf.resource, name=None)\n",
            "  133726362576048: TensorSpec(shape=(), dtype=tf.resource, name=None)\n",
            "  133726362573232: TensorSpec(shape=(), dtype=tf.resource, name=None)\n",
            "  133726362719104: TensorSpec(shape=(), dtype=tf.resource, name=None)\n",
            "  133726362720160: TensorSpec(shape=(), dtype=tf.resource, name=None)\n",
            "  133726362716288: TensorSpec(shape=(), dtype=tf.resource, name=None)\n",
            "  133726362718928: TensorSpec(shape=(), dtype=tf.resource, name=None)\n",
            "  133726380154144: TensorSpec(shape=(), dtype=tf.resource, name=None)\n",
            "  133726362725264: TensorSpec(shape=(), dtype=tf.resource, name=None)\n",
            "  133726362727728: TensorSpec(shape=(), dtype=tf.resource, name=None)\n",
            "  133726362723856: TensorSpec(shape=(), dtype=tf.resource, name=None)\n",
            "  133726362726496: TensorSpec(shape=(), dtype=tf.resource, name=None)\n",
            "  133726362729312: TensorSpec(shape=(), dtype=tf.resource, name=None)\n",
            "  133726362782176: TensorSpec(shape=(), dtype=tf.resource, name=None)\n",
            "  133726362780240: TensorSpec(shape=(), dtype=tf.resource, name=None)\n",
            "  133726362779888: TensorSpec(shape=(), dtype=tf.resource, name=None)\n",
            "  133726362782352: TensorSpec(shape=(), dtype=tf.resource, name=None)\n",
            "  133726362790448: TensorSpec(shape=(), dtype=tf.resource, name=None)\n",
            "  133726362789392: TensorSpec(shape=(), dtype=tf.resource, name=None)\n",
            "  133726362792032: TensorSpec(shape=(), dtype=tf.resource, name=None)\n",
            "  133726362781824: TensorSpec(shape=(), dtype=tf.resource, name=None)\n",
            "  133726362789920: TensorSpec(shape=(), dtype=tf.resource, name=None)\n",
            "  133726362795024: TensorSpec(shape=(), dtype=tf.resource, name=None)\n",
            "  133726288988816: TensorSpec(shape=(), dtype=tf.resource, name=None)\n",
            "  133726288986880: TensorSpec(shape=(), dtype=tf.resource, name=None)\n",
            "  133726288989168: TensorSpec(shape=(), dtype=tf.resource, name=None)\n",
            "  133726288988992: TensorSpec(shape=(), dtype=tf.resource, name=None)\n",
            "  133726380159072: TensorSpec(shape=(), dtype=tf.resource, name=None)\n",
            "  133726288993568: TensorSpec(shape=(), dtype=tf.resource, name=None)\n",
            "  133726288996032: TensorSpec(shape=(), dtype=tf.resource, name=None)\n",
            "  133726288992160: TensorSpec(shape=(), dtype=tf.resource, name=None)\n",
            "  133726288994800: TensorSpec(shape=(), dtype=tf.resource, name=None)\n",
            "  133726289002016: TensorSpec(shape=(), dtype=tf.resource, name=None)\n",
            "  133726288998496: TensorSpec(shape=(), dtype=tf.resource, name=None)\n",
            "  133726288998144: TensorSpec(shape=(), dtype=tf.resource, name=None)\n",
            "  133726288999200: TensorSpec(shape=(), dtype=tf.resource, name=None)\n",
            "  133726288997968: TensorSpec(shape=(), dtype=tf.resource, name=None)\n",
            "  133726288997616: TensorSpec(shape=(), dtype=tf.resource, name=None)\n",
            "  133726289043072: TensorSpec(shape=(), dtype=tf.resource, name=None)\n",
            "  133726289044128: TensorSpec(shape=(), dtype=tf.resource, name=None)\n",
            "  133726289040256: TensorSpec(shape=(), dtype=tf.resource, name=None)\n",
            "  133726289042896: TensorSpec(shape=(), dtype=tf.resource, name=None)\n",
            "  133726362786224: TensorSpec(shape=(), dtype=tf.resource, name=None)\n",
            "  133726289049056: TensorSpec(shape=(), dtype=tf.resource, name=None)\n",
            "  133726289045536: TensorSpec(shape=(), dtype=tf.resource, name=None)\n",
            "  133726289047648: TensorSpec(shape=(), dtype=tf.resource, name=None)\n",
            "  133726289050288: TensorSpec(shape=(), dtype=tf.resource, name=None)\n",
            "  133726289048000: TensorSpec(shape=(), dtype=tf.resource, name=None)\n",
            "  133726289139968: TensorSpec(shape=(), dtype=tf.resource, name=None)\n",
            "  133726289142608: TensorSpec(shape=(), dtype=tf.resource, name=None)\n",
            "  133726289138560: TensorSpec(shape=(), dtype=tf.resource, name=None)\n",
            "  133726289140496: TensorSpec(shape=(), dtype=tf.resource, name=None)\n",
            "  133726289148768: TensorSpec(shape=(), dtype=tf.resource, name=None)\n",
            "  133726289147712: TensorSpec(shape=(), dtype=tf.resource, name=None)\n",
            "  133726289144192: TensorSpec(shape=(), dtype=tf.resource, name=None)\n",
            "  133726289136624: TensorSpec(shape=(), dtype=tf.resource, name=None)\n",
            "  133726289148944: TensorSpec(shape=(), dtype=tf.resource, name=None)\n",
            "  133726288997792: TensorSpec(shape=(), dtype=tf.resource, name=None)\n",
            "  133726289204624: TensorSpec(shape=(), dtype=tf.resource, name=None)\n",
            "  133726289205680: TensorSpec(shape=(), dtype=tf.resource, name=None)\n",
            "  133726289201808: TensorSpec(shape=(), dtype=tf.resource, name=None)\n",
            "  133726289204448: TensorSpec(shape=(), dtype=tf.resource, name=None)\n",
            "  133726289211664: TensorSpec(shape=(), dtype=tf.resource, name=None)\n",
            "  133726289210608: TensorSpec(shape=(), dtype=tf.resource, name=None)\n",
            "  133726289213248: TensorSpec(shape=(), dtype=tf.resource, name=None)\n",
            "  133726289202160: TensorSpec(shape=(), dtype=tf.resource, name=None)\n",
            "  133726289211136: TensorSpec(shape=(), dtype=tf.resource, name=None)\n",
            "  133726289207264: TensorSpec(shape=(), dtype=tf.resource, name=None)\n",
            "  133726289285488: TensorSpec(shape=(), dtype=tf.resource, name=None)\n",
            "  133726289285136: TensorSpec(shape=(), dtype=tf.resource, name=None)\n",
            "  133726289282672: TensorSpec(shape=(), dtype=tf.resource, name=None)\n",
            "  133726289285312: TensorSpec(shape=(), dtype=tf.resource, name=None)\n",
            "  133726289136800: TensorSpec(shape=(), dtype=tf.resource, name=None)\n",
            "  133726289291648: TensorSpec(shape=(), dtype=tf.resource, name=None)\n",
            "  133726289294112: TensorSpec(shape=(), dtype=tf.resource, name=None)\n",
            "  133726289290240: TensorSpec(shape=(), dtype=tf.resource, name=None)\n",
            "  133726289292880: TensorSpec(shape=(), dtype=tf.resource, name=None)\n",
            "  133726289296928: TensorSpec(shape=(), dtype=tf.resource, name=None)\n",
            "  133726289380976: TensorSpec(shape=(), dtype=tf.resource, name=None)\n",
            "  133726289380800: TensorSpec(shape=(), dtype=tf.resource, name=None)\n",
            "  133726289382208: TensorSpec(shape=(), dtype=tf.resource, name=None)\n",
            "  133726289382736: TensorSpec(shape=(), dtype=tf.resource, name=None)\n",
            "  133726289295696: TensorSpec(shape=(), dtype=tf.resource, name=None)\n",
            "  133726289388896: TensorSpec(shape=(), dtype=tf.resource, name=None)\n",
            "  133726289391360: TensorSpec(shape=(), dtype=tf.resource, name=None)\n",
            "  133726289387488: TensorSpec(shape=(), dtype=tf.resource, name=None)\n",
            "  133726289390128: TensorSpec(shape=(), dtype=tf.resource, name=None)\n",
            "  133726289379920: TensorSpec(shape=(), dtype=tf.resource, name=None)\n",
            "  133726289447216: TensorSpec(shape=(), dtype=tf.resource, name=None)\n",
            "  133726289449680: TensorSpec(shape=(), dtype=tf.resource, name=None)\n",
            "  133726289393472: TensorSpec(shape=(), dtype=tf.resource, name=None)\n",
            "  133726289447392: TensorSpec(shape=(), dtype=tf.resource, name=None)\n",
            "  133726289452144: TensorSpec(shape=(), dtype=tf.resource, name=None)\n",
            "  133726289497424: TensorSpec(shape=(), dtype=tf.resource, name=None)\n",
            "  133726289499184: TensorSpec(shape=(), dtype=tf.resource, name=None)\n",
            "  133726289494960: TensorSpec(shape=(), dtype=tf.resource, name=None)\n",
            "  133726289497952: TensorSpec(shape=(), dtype=tf.resource, name=None)\n",
            "  133726289505344: TensorSpec(shape=(), dtype=tf.resource, name=None)\n",
            "  133726289504288: TensorSpec(shape=(), dtype=tf.resource, name=None)\n",
            "  133726289506752: TensorSpec(shape=(), dtype=tf.resource, name=None)\n",
            "  133726289495312: TensorSpec(shape=(), dtype=tf.resource, name=None)\n",
            "  133726289505520: TensorSpec(shape=(), dtype=tf.resource, name=None)\n",
            "  133726289508336: TensorSpec(shape=(), dtype=tf.resource, name=None)\n",
            "  133726289593968: TensorSpec(shape=(), dtype=tf.resource, name=None)\n",
            "  133726289592560: TensorSpec(shape=(), dtype=tf.resource, name=None)\n",
            "  133726289509392: TensorSpec(shape=(), dtype=tf.resource, name=None)\n",
            "  133726289594144: TensorSpec(shape=(), dtype=tf.resource, name=None)\n",
            "  133726289601184: TensorSpec(shape=(), dtype=tf.resource, name=None)\n",
            "  133726289600128: TensorSpec(shape=(), dtype=tf.resource, name=None)\n",
            "  133726289602768: TensorSpec(shape=(), dtype=tf.resource, name=None)\n",
            "  133726289596608: TensorSpec(shape=(), dtype=tf.resource, name=None)\n",
            "  133726289600656: TensorSpec(shape=(), dtype=tf.resource, name=None)\n",
            "  133726289605760: TensorSpec(shape=(), dtype=tf.resource, name=None)\n",
            "  133726289599072: TensorSpec(shape=(), dtype=tf.resource, name=None)\n",
            "  133726289604528: TensorSpec(shape=(), dtype=tf.resource, name=None)\n",
            "  133726289606816: TensorSpec(shape=(), dtype=tf.resource, name=None)\n",
            "  133726289659152: TensorSpec(shape=(), dtype=tf.resource, name=None)\n",
            "  133726289460768: TensorSpec(shape=(), dtype=tf.resource, name=None)\n",
            "  133726289666192: TensorSpec(shape=(), dtype=tf.resource, name=None)\n",
            "  133726289667248: TensorSpec(shape=(), dtype=tf.resource, name=None)\n",
            "  133726289663376: TensorSpec(shape=(), dtype=tf.resource, name=None)\n",
            "  133726289666016: TensorSpec(shape=(), dtype=tf.resource, name=None)\n",
            "  133726289673232: TensorSpec(shape=(), dtype=tf.resource, name=None)\n",
            "  133726289669712: TensorSpec(shape=(), dtype=tf.resource, name=None)\n",
            "  133726289669360: TensorSpec(shape=(), dtype=tf.resource, name=None)\n",
            "  133726289670416: TensorSpec(shape=(), dtype=tf.resource, name=None)\n",
            "  133726289673408: TensorSpec(shape=(), dtype=tf.resource, name=None)\n",
            "  133726289668832: TensorSpec(shape=(), dtype=tf.resource, name=None)\n",
            "  133726289763440: TensorSpec(shape=(), dtype=tf.resource, name=None)\n",
            "  133726289764496: TensorSpec(shape=(), dtype=tf.resource, name=None)\n",
            "  133726289760624: TensorSpec(shape=(), dtype=tf.resource, name=None)\n",
            "  133726289763264: TensorSpec(shape=(), dtype=tf.resource, name=None)\n",
            "  133726289596784: TensorSpec(shape=(), dtype=tf.resource, name=None)\n",
            "  133726289769600: TensorSpec(shape=(), dtype=tf.resource, name=None)\n",
            "  133726289772064: TensorSpec(shape=(), dtype=tf.resource, name=None)\n",
            "  133726289768192: TensorSpec(shape=(), dtype=tf.resource, name=None)\n",
            "  133726289770832: TensorSpec(shape=(), dtype=tf.resource, name=None)\n",
            "  133726289768544: TensorSpec(shape=(), dtype=tf.resource, name=None)\n",
            "  133726281830944: TensorSpec(shape=(), dtype=tf.resource, name=None)\n",
            "  133726281833584: TensorSpec(shape=(), dtype=tf.resource, name=None)\n",
            "  133726281829536: TensorSpec(shape=(), dtype=tf.resource, name=None)\n",
            "  133726281831472: TensorSpec(shape=(), dtype=tf.resource, name=None)\n",
            "  133726281839744: TensorSpec(shape=(), dtype=tf.resource, name=None)\n",
            "  133726281838688: TensorSpec(shape=(), dtype=tf.resource, name=None)\n",
            "  133726281841152: TensorSpec(shape=(), dtype=tf.resource, name=None)\n",
            "  133726281827600: TensorSpec(shape=(), dtype=tf.resource, name=None)\n",
            "  133726281839920: TensorSpec(shape=(), dtype=tf.resource, name=None)\n",
            "  133726289669008: TensorSpec(shape=(), dtype=tf.resource, name=None)\n",
            "  133726281913392: TensorSpec(shape=(), dtype=tf.resource, name=None)\n",
            "  133726281914448: TensorSpec(shape=(), dtype=tf.resource, name=None)\n",
            "  133726281910576: TensorSpec(shape=(), dtype=tf.resource, name=None)\n",
            "  133726281913216: TensorSpec(shape=(), dtype=tf.resource, name=None)\n",
            "  133726281920432: TensorSpec(shape=(), dtype=tf.resource, name=None)\n",
            "  133726281919376: TensorSpec(shape=(), dtype=tf.resource, name=None)\n",
            "  133726281922016: TensorSpec(shape=(), dtype=tf.resource, name=None)\n",
            "  133726281910928: TensorSpec(shape=(), dtype=tf.resource, name=None)\n",
            "  133726281919904: TensorSpec(shape=(), dtype=tf.resource, name=None)\n",
            "  133726281916032: TensorSpec(shape=(), dtype=tf.resource, name=None)\n",
            "  133726281994256: TensorSpec(shape=(), dtype=tf.resource, name=None)\n",
            "  133726281994784: TensorSpec(shape=(), dtype=tf.resource, name=None)\n",
            "  133726281990912: TensorSpec(shape=(), dtype=tf.resource, name=None)\n",
            "  133726281994432: TensorSpec(shape=(), dtype=tf.resource, name=None)\n",
            "  133726281827776: TensorSpec(shape=(), dtype=tf.resource, name=None)\n",
            "  133726281999008: TensorSpec(shape=(), dtype=tf.resource, name=None)\n",
            "  133726282001472: TensorSpec(shape=(), dtype=tf.resource, name=None)\n",
            "  133726281997600: TensorSpec(shape=(), dtype=tf.resource, name=None)\n",
            "  133726282000240: TensorSpec(shape=(), dtype=tf.resource, name=None)\n",
            "  133726282004288: TensorSpec(shape=(), dtype=tf.resource, name=None)\n",
            "  133726282040240: TensorSpec(shape=(), dtype=tf.resource, name=None)\n",
            "  133726282039536: TensorSpec(shape=(), dtype=tf.resource, name=None)\n",
            "  133726282005344: TensorSpec(shape=(), dtype=tf.resource, name=None)\n",
            "  133726282039360: TensorSpec(shape=(), dtype=tf.resource, name=None)\n",
            "  133726282003056: TensorSpec(shape=(), dtype=tf.resource, name=None)\n",
            "  133726282048512: TensorSpec(shape=(), dtype=tf.resource, name=None)\n",
            "  133726282049568: TensorSpec(shape=(), dtype=tf.resource, name=None)\n",
            "  133726282045696: TensorSpec(shape=(), dtype=tf.resource, name=None)\n",
            "  133726282048336: TensorSpec(shape=(), dtype=tf.resource, name=None)\n",
            "  133726281916208: TensorSpec(shape=(), dtype=tf.resource, name=None)\n",
            "  133726282046048: TensorSpec(shape=(), dtype=tf.resource, name=None)\n",
            "  133726282051328: TensorSpec(shape=(), dtype=tf.resource, name=None)\n",
            "  133726282053616: TensorSpec(shape=(), dtype=tf.resource, name=None)\n",
            "  133726282155104: TensorSpec(shape=(), dtype=tf.resource, name=None)\n",
            "  133726282054672: TensorSpec(shape=(), dtype=tf.resource, name=None)\n",
            "  133726282160560: TensorSpec(shape=(), dtype=tf.resource, name=None)\n",
            "  133726282163200: TensorSpec(shape=(), dtype=tf.resource, name=None)\n",
            "  133726282159152: TensorSpec(shape=(), dtype=tf.resource, name=None)\n",
            "  133726282161088: TensorSpec(shape=(), dtype=tf.resource, name=None)\n",
            "  133726282169360: TensorSpec(shape=(), dtype=tf.resource, name=None)\n",
            "  133726282159504: TensorSpec(shape=(), dtype=tf.resource, name=None)\n",
            "  133726282164784: TensorSpec(shape=(), dtype=tf.resource, name=None)\n",
            "  133726282167072: TensorSpec(shape=(), dtype=tf.resource, name=None)\n",
            "  133726282169184: TensorSpec(shape=(), dtype=tf.resource, name=None)\n",
            "  133726282003232: TensorSpec(shape=(), dtype=tf.resource, name=None)\n",
            "  133726282243008: TensorSpec(shape=(), dtype=tf.resource, name=None)\n",
            "  133726282244064: TensorSpec(shape=(), dtype=tf.resource, name=None)\n",
            "  133726282240192: TensorSpec(shape=(), dtype=tf.resource, name=None)\n",
            "  133726282242832: TensorSpec(shape=(), dtype=tf.resource, name=None)\n",
            "  133726282251456: TensorSpec(shape=(), dtype=tf.resource, name=None)\n",
            "  133726282247936: TensorSpec(shape=(), dtype=tf.resource, name=None)\n",
            "  133726282247584: TensorSpec(shape=(), dtype=tf.resource, name=None)\n",
            "  133726282248640: TensorSpec(shape=(), dtype=tf.resource, name=None)\n",
            "  133726282251632: TensorSpec(shape=(), dtype=tf.resource, name=None)\n",
            "  133726282247056: TensorSpec(shape=(), dtype=tf.resource, name=None)\n",
            "  133726282341664: TensorSpec(shape=(), dtype=tf.resource, name=None)\n",
            "  133726282342720: TensorSpec(shape=(), dtype=tf.resource, name=None)\n",
            "  133726282338848: TensorSpec(shape=(), dtype=tf.resource, name=None)\n",
            "  133726282341488: TensorSpec(shape=(), dtype=tf.resource, name=None)\n",
            "  133726282157392: TensorSpec(shape=(), dtype=tf.resource, name=None)\n",
            "  133726282346416: TensorSpec(shape=(), dtype=tf.resource, name=None)\n",
            "  133726282348880: TensorSpec(shape=(), dtype=tf.resource, name=None)\n",
            "  133726282345008: TensorSpec(shape=(), dtype=tf.resource, name=None)\n",
            "  133726282347648: TensorSpec(shape=(), dtype=tf.resource, name=None)\n",
            "  133726282345360: TensorSpec(shape=(), dtype=tf.resource, name=None)\n",
            "  133726282435920: TensorSpec(shape=(), dtype=tf.resource, name=None)\n",
            "  133726282438560: TensorSpec(shape=(), dtype=tf.resource, name=None)\n",
            "  133726282434512: TensorSpec(shape=(), dtype=tf.resource, name=None)\n",
            "  133726282436448: TensorSpec(shape=(), dtype=tf.resource, name=None)\n",
            "  133726282444720: TensorSpec(shape=(), dtype=tf.resource, name=None)\n",
            "  133726282443664: TensorSpec(shape=(), dtype=tf.resource, name=None)\n",
            "  133726282446128: TensorSpec(shape=(), dtype=tf.resource, name=None)\n",
            "  133726282432576: TensorSpec(shape=(), dtype=tf.resource, name=None)\n",
            "  133726282444896: TensorSpec(shape=(), dtype=tf.resource, name=None)\n",
            "  133726282434160: TensorSpec(shape=(), dtype=tf.resource, name=None)\n",
            "  133726282485600: TensorSpec(shape=(), dtype=tf.resource, name=None)\n",
            "  133726282483136: TensorSpec(shape=(), dtype=tf.resource, name=None)\n",
            "  133726282482256: TensorSpec(shape=(), dtype=tf.resource, name=None)\n",
            "  133726282485776: TensorSpec(shape=(), dtype=tf.resource, name=None)\n",
            "  133726282492640: TensorSpec(shape=(), dtype=tf.resource, name=None)\n",
            "  133726282491584: TensorSpec(shape=(), dtype=tf.resource, name=None)\n",
            "  133726282494224: TensorSpec(shape=(), dtype=tf.resource, name=None)\n",
            "  133726282482432: TensorSpec(shape=(), dtype=tf.resource, name=None)\n",
            "  133726282492112: TensorSpec(shape=(), dtype=tf.resource, name=None)\n",
            "  133726282497216: TensorSpec(shape=(), dtype=tf.resource, name=None)\n",
            "  133726282582848: TensorSpec(shape=(), dtype=tf.resource, name=None)\n",
            "  133726282580912: TensorSpec(shape=(), dtype=tf.resource, name=None)\n",
            "  133726282583376: TensorSpec(shape=(), dtype=tf.resource, name=None)\n",
            "  133726282583024: TensorSpec(shape=(), dtype=tf.resource, name=None)\n",
            "  133726282432752: TensorSpec(shape=(), dtype=tf.resource, name=None)\n",
            "  133726282589008: TensorSpec(shape=(), dtype=tf.resource, name=None)\n",
            "  133726282591472: TensorSpec(shape=(), dtype=tf.resource, name=None)\n",
            "  133726282587600: TensorSpec(shape=(), dtype=tf.resource, name=None)\n",
            "  133726282590240: TensorSpec(shape=(), dtype=tf.resource, name=None)\n",
            "  133726282594288: TensorSpec(shape=(), dtype=tf.resource, name=None)\n",
            "  133726282661952: TensorSpec(shape=(), dtype=tf.resource, name=None)\n",
            "  133726282662128: TensorSpec(shape=(), dtype=tf.resource, name=None)\n",
            "  133726282595344: TensorSpec(shape=(), dtype=tf.resource, name=None)\n",
            "  133726282663712: TensorSpec(shape=(), dtype=tf.resource, name=None)\n",
            "  133726282593056: TensorSpec(shape=(), dtype=tf.resource, name=None)\n",
            "  133726282669872: TensorSpec(shape=(), dtype=tf.resource, name=None)\n",
            "  133726282672336: TensorSpec(shape=(), dtype=tf.resource, name=None)\n",
            "  133726282668464: TensorSpec(shape=(), dtype=tf.resource, name=None)\n",
            "  133726282671104: TensorSpec(shape=(), dtype=tf.resource, name=None)\n",
            "  133726282488416: TensorSpec(shape=(), dtype=tf.resource, name=None)\n",
            "  133726282668816: TensorSpec(shape=(), dtype=tf.resource, name=None)\n",
            "  133726282669696: TensorSpec(shape=(), dtype=tf.resource, name=None)\n",
            "  133726282674976: TensorSpec(shape=(), dtype=tf.resource, name=None)\n",
            "  133726282677088: TensorSpec(shape=(), dtype=tf.resource, name=None)\n",
            "  133726282723424: TensorSpec(shape=(), dtype=tf.resource, name=None)\n",
            "  133726282724480: TensorSpec(shape=(), dtype=tf.resource, name=None)\n",
            "  133726282726240: TensorSpec(shape=(), dtype=tf.resource, name=None)\n",
            "  133726282724656: TensorSpec(shape=(), dtype=tf.resource, name=None)\n",
            "  133726282717616: TensorSpec(shape=(), dtype=tf.resource, name=None)\n",
            "  133726282726592: TensorSpec(shape=(), dtype=tf.resource, name=None)\n",
            "  133726282725712: TensorSpec(shape=(), dtype=tf.resource, name=None)\n",
            "  133726263804848: TensorSpec(shape=(), dtype=tf.resource, name=None)\n"
          ]
        }
      ]
    },
    {
      "cell_type": "code",
      "source": [
        "converter = tf.lite.TFLiteConverter.from_saved_model(saved_model_dir)\n",
        "converter.target_spec.supported_ops = [\n",
        "    tf.lite.OpsSet.TFLITE_BUILTINS,  # TFLite built-in ops\n",
        "    tf.lite.OpsSet.SELECT_TF_OPS     # Enable TF Select ops\n",
        "]\n",
        "tflite_model = converter.convert()\n",
        "\n",
        "# Save the TFLite model\n",
        "tflite_model_file = \"model_with_flex_ops.tflite\"\n",
        "with open(tflite_model_file, \"wb\") as f:\n",
        "    f.write(tflite_model)\n",
        "\n",
        "print(f\"TFLite model with flex ops saved as {tflite_model_file}\")"
      ],
      "metadata": {
        "colab": {
          "base_uri": "https://localhost:8080/"
        },
        "id": "9BWGYTT9gyNd",
        "outputId": "4c87b948-bd5e-4952-ff9d-a8ca99e08138"
      },
      "execution_count": 21,
      "outputs": [
        {
          "output_type": "stream",
          "name": "stdout",
          "text": [
            "TFLite model with flex ops saved as model_with_flex_ops.tflite\n"
          ]
        }
      ]
    },
    {
      "cell_type": "code",
      "source": [
        "def zip_saved_model(saved_model_dir, zip_filename):\n",
        "  \"\"\"\n",
        "  Zips the contents of a saved_model directory.\n",
        "\n",
        "  Args:\n",
        "    saved_model_dir: The path to the saved_model directory.\n",
        "    zip_filename: The desired filename for the zip archive.\n",
        "  \"\"\"\n",
        "\n",
        "  try:\n",
        "    shutil.make_archive(zip_filename, 'zip', saved_model_dir)\n",
        "    print(f\"Saved model zipped successfully to {zip_filename}.zip\")\n",
        "  except Exception as e:\n",
        "    print(f\"Error zipping saved model: {e}\")\n",
        "\n",
        "\n",
        "# Example usage:\n",
        "saved_model_dir = \"saved_model\"  # Replace with your saved model directory\n",
        "zip_filename = \"saved_model\"  # Replace with your desired zip filename\n",
        "\n",
        "zip_saved_model(saved_model_dir, zip_filename)"
      ],
      "metadata": {
        "colab": {
          "base_uri": "https://localhost:8080/"
        },
        "id": "fMfZ9pK_g3DQ",
        "outputId": "cd5b5c13-326f-4690-ab81-900df45cf0d3"
      },
      "execution_count": 22,
      "outputs": [
        {
          "output_type": "stream",
          "name": "stdout",
          "text": [
            "Saved model zipped successfully to saved_model.zip\n"
          ]
        }
      ]
    },
    {
      "cell_type": "code",
      "source": [],
      "metadata": {
        "id": "ZMfx75kSg9ca"
      },
      "execution_count": null,
      "outputs": []
    }
  ]
}